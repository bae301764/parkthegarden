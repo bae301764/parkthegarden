{
  "nbformat": 4,
  "nbformat_minor": 0,
  "metadata": {
    "colab": {
      "provenance": [],
      "toc_visible": true
    },
    "kernelspec": {
      "name": "python3",
      "display_name": "Python 3"
    },
    "language_info": {
      "name": "python"
    }
  },
  "cells": [
    {
      "cell_type": "markdown",
      "source": [
        "![seoultech logo small.png](data:image/png;base64,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)"
      ],
      "metadata": {
        "id": "GToIZEsxEqpS"
      }
    },
    {
      "cell_type": "markdown",
      "source": [
        "# Lab Session \\# 03\n",
        "---\n",
        "\n",
        "by Prof. Josué Obregón <br>\n",
        "Data Analysis for Electronic Manufacturing <br>\n",
        "Department of Data Science - SeoulTech<br>\n",
        "\n",
        "## Objective\n",
        "\n",
        "The objectives of this lab session are as follows:\n",
        "\n",
        "1.  Introduce Pandas capabilities of handling time series data. Time series data are captured very often in electronic manufacturing by sensors installed in machines and production lines to monitor the operation, state of health, machine parameters and other conditions during manufacturing processes.\n",
        "\n"
      ],
      "metadata": {
        "id": "Ezhlc9pxD0YK"
      }
    },
    {
      "cell_type": "markdown",
      "metadata": {
        "id": "gy6UcZHXfUV1"
      },
      "source": [
        "# Working with Time Series"
      ]
    },
    {
      "cell_type": "markdown",
      "metadata": {
        "id": "Xc9-lcz3fUV1"
      },
      "source": [
        "Pandas was originally developed in the context of financial modeling, so as you might expect, it contains an extensive set of tools for working with dates, times, and time-indexed data.\n",
        "Date and time data comes in a few flavors, which we will discuss here:\n",
        "\n",
        "- *Timestamps* reference particular moments in time (e.g., July 4th, 2021 at 7:00 a.m.).\n",
        "- *Time intervals* and *periods* reference a length of time between a particular beginning and end point; for example, the month of June 2021. Periods usually reference a special case of time intervals in which each interval is of uniform length and does not overlap (e.g., 24-hour-long periods comprising days).\n",
        "- *Time deltas* or *durations* reference an exact length of time (e.g., a duration of 22.56 seconds).\n",
        "\n",
        "This lab session will introduce how to work with each of these types of date/time data in Pandas.\n",
        "This is by no means a complete guide to the time series tools available in Python or Pandas, but instead is intended as a broad overview of how you as a user should approach working with time series.\n",
        "We will start with a brief discussion of tools for dealing with dates and times in Python, before moving more specifically to a discussion of the tools provided by Pandas.\n",
        "After listing some resources that go into more depth, we will review some short examples of working with time series data in Pandas."
      ]
    },
    {
      "cell_type": "markdown",
      "metadata": {
        "id": "jI56C8vFfUV2"
      },
      "source": [
        "## Dates and Times in Python\n",
        "\n",
        "The Python world has a number of available representations of dates, times, deltas, and time spans.\n",
        "While the time series tools provided by Pandas tend to be the most useful for data science applications, it is helpful to see their relationship to other tools used in Python."
      ]
    },
    {
      "cell_type": "markdown",
      "metadata": {
        "id": "qQw_RBUufUV2"
      },
      "source": [
        "### Native Python Dates and Times: datetime and dateutil\n",
        "\n",
        "Python's basic objects for working with dates and times reside in the built-in `datetime` module.\n",
        "Along with the third-party `dateutil` module, you can use this to quickly perform a host of useful functionalities on dates and times.\n",
        "For example, you can manually build a date using the `datetime` type:"
      ]
    },
    {
      "cell_type": "code",
      "execution_count": 1,
      "metadata": {
        "jupyter": {
          "outputs_hidden": false
        },
        "id": "pGcJN2PPfUV2",
        "outputId": "b6ee2350-b7b7-4de4-9694-ed34e5c03695",
        "colab": {
          "base_uri": "https://localhost:8080/"
        }
      },
      "outputs": [
        {
          "output_type": "execute_result",
          "data": {
            "text/plain": [
              "datetime.datetime(2021, 7, 4, 0, 0)"
            ]
          },
          "metadata": {},
          "execution_count": 1
        }
      ],
      "source": [
        "from datetime import datetime\n",
        "datetime(year=2021, month=7, day=4)"
      ]
    },
    {
      "cell_type": "markdown",
      "metadata": {
        "id": "ee0-TBbefUV3"
      },
      "source": [
        "Or, using the `dateutil` module, you can parse dates from a variety of string formats:"
      ]
    },
    {
      "cell_type": "code",
      "execution_count": 4,
      "metadata": {
        "jupyter": {
          "outputs_hidden": false
        },
        "id": "2rtMtG5XfUV3",
        "outputId": "375d7847-81ef-4287-a183-c0b335e9d124",
        "colab": {
          "base_uri": "https://localhost:8080/"
        }
      },
      "outputs": [
        {
          "output_type": "execute_result",
          "data": {
            "text/plain": [
              "datetime.datetime(2021, 7, 4, 0, 0)"
            ]
          },
          "metadata": {},
          "execution_count": 4
        }
      ],
      "source": [
        "from dateutil import parser\n",
        "date = parser.parse('4th of July, 2021')\n",
        "date"
      ]
    },
    {
      "cell_type": "code",
      "source": [
        "date = parser.parse('25th of December, 2022')\n",
        "date"
      ],
      "metadata": {
        "id": "4P9GOYGDVmS3",
        "outputId": "b4518a9f-5657-4d6d-c1d0-613d0b5b960d",
        "colab": {
          "base_uri": "https://localhost:8080/"
        }
      },
      "execution_count": 7,
      "outputs": [
        {
          "output_type": "execute_result",
          "data": {
            "text/plain": [
              "datetime.datetime(2022, 12, 25, 0, 0)"
            ]
          },
          "metadata": {},
          "execution_count": 7
        }
      ]
    },
    {
      "cell_type": "code",
      "source": [
        "parser.parse('2021-07-04')"
      ],
      "metadata": {
        "id": "PG9Z3sgmzD6Z",
        "outputId": "ce571085-14d7-473a-9dd2-62b7769f84d1",
        "colab": {
          "base_uri": "https://localhost:8080/"
        }
      },
      "execution_count": 5,
      "outputs": [
        {
          "output_type": "execute_result",
          "data": {
            "text/plain": [
              "datetime.datetime(2021, 7, 4, 0, 0)"
            ]
          },
          "metadata": {},
          "execution_count": 5
        }
      ]
    },
    {
      "cell_type": "code",
      "source": [
        "parser.parse('12-25 3:00PM')"
      ],
      "metadata": {
        "id": "0KBUtlzgVuWx",
        "outputId": "c2e2087a-2223-44a8-bfb0-c5f12046bae7",
        "colab": {
          "base_uri": "https://localhost:8080/"
        }
      },
      "execution_count": 11,
      "outputs": [
        {
          "output_type": "execute_result",
          "data": {
            "text/plain": [
              "datetime.datetime(2023, 12, 25, 15, 0)"
            ]
          },
          "metadata": {},
          "execution_count": 11
        }
      ]
    },
    {
      "cell_type": "markdown",
      "metadata": {
        "id": "klCv8oNafUV3"
      },
      "source": [
        "Once you have a `datetime` object, you can do things like printing the day of the week:"
      ]
    },
    {
      "cell_type": "code",
      "execution_count": 18,
      "metadata": {
        "jupyter": {
          "outputs_hidden": false
        },
        "id": "lNpR0b6hfUV3",
        "outputId": "a4f60461-9fe6-4ad9-b8d2-5c9c65109da6",
        "colab": {
          "base_uri": "https://localhost:8080/",
          "height": 36
        }
      },
      "outputs": [
        {
          "output_type": "execute_result",
          "data": {
            "text/plain": [
              "'Sunday'"
            ],
            "application/vnd.google.colaboratory.intrinsic+json": {
              "type": "string"
            }
          },
          "metadata": {},
          "execution_count": 18
        }
      ],
      "source": [
        "date.strftime('%A')"
      ]
    },
    {
      "cell_type": "markdown",
      "metadata": {
        "id": "NDp2CGDMfUV3"
      },
      "source": [
        "Here we've used one of the standard string format codes for printing dates (`'%A'`), which you can read about in the [`strftime` section](https://docs.python.org/3/library/datetime.html#strftime-and-strptime-behavior) of Python's [`datetime` documentation](https://docs.python.org/3/library/datetime.html).\n",
        "Documentation of other useful date utilities can be found in [``dateutil``'s online documentation](http://labix.org/python-dateutil).\n",
        "A related package to be aware of is [`pytz`](http://pytz.sourceforge.net/), which contains tools for working with the most migraine-inducing element of time series data: time zones.\n",
        "\n",
        "The power of `datetime` and `dateutil` lies in their flexibility and easy syntax: you can use these objects and their built-in methods to easily perform nearly any operation you might be interested in.\n",
        "Where they break down is when you wish to work with large arrays of dates and times:\n",
        "just as lists of Python numerical variables are suboptimal compared to NumPy-style typed numerical arrays, lists of Python `datetime` objects are suboptimal compared to typed arrays of encoded dates."
      ]
    },
    {
      "cell_type": "markdown",
      "metadata": {
        "id": "JRd-Q66WfUV3"
      },
      "source": [
        "### Typed Arrays of Times: NumPy's datetime64\n",
        "\n",
        "NumPy's `datetime64` dtype encodes dates as 64-bit integers, and thus allows arrays of dates to be represented compactly and operated on in an efficient manner.\n",
        "The `datetime64` requires a specific input format:"
      ]
    },
    {
      "cell_type": "code",
      "execution_count": 25,
      "metadata": {
        "jupyter": {
          "outputs_hidden": false
        },
        "id": "nB92WI8kfUV4",
        "outputId": "83b4e34f-02e7-43b7-b934-4f4297298741",
        "colab": {
          "base_uri": "https://localhost:8080/"
        }
      },
      "outputs": [
        {
          "output_type": "execute_result",
          "data": {
            "text/plain": [
              "array('2021-07-04', dtype='datetime64[D]')"
            ]
          },
          "metadata": {},
          "execution_count": 25
        }
      ],
      "source": [
        "import numpy as np\n",
        "date = np.array('2021-07-04', dtype=np.datetime64)\n",
        "date"
      ]
    },
    {
      "cell_type": "markdown",
      "metadata": {
        "id": "qv0kqfZmfUV4"
      },
      "source": [
        "Once we have dates in this form, we can quickly do vectorized operations on it:"
      ]
    },
    {
      "cell_type": "code",
      "execution_count": 22,
      "metadata": {
        "jupyter": {
          "outputs_hidden": false
        },
        "id": "5SuvQVv3fUV4",
        "outputId": "f7a6103d-5a49-428c-80f4-e5aa2b202fb0",
        "colab": {
          "base_uri": "https://localhost:8080/"
        }
      },
      "outputs": [
        {
          "output_type": "execute_result",
          "data": {
            "text/plain": [
              "array([12, 13, 14, 15, 16, 17, 18, 19, 20, 21, 22, 23, 24, 25, 26, 27, 28,\n",
              "       29])"
            ]
          },
          "metadata": {},
          "execution_count": 22
        }
      ],
      "source": [
        "np.arange(12,30)"
      ]
    },
    {
      "cell_type": "code",
      "source": [
        "date + np.arange(12,30)"
      ],
      "metadata": {
        "id": "eaYNyXo7XFV-",
        "outputId": "ef817abd-d3a0-40ee-a501-866e65e362b1",
        "colab": {
          "base_uri": "https://localhost:8080/"
        }
      },
      "execution_count": 23,
      "outputs": [
        {
          "output_type": "execute_result",
          "data": {
            "text/plain": [
              "array(['2021-07-16', '2021-07-17', '2021-07-18', '2021-07-19',\n",
              "       '2021-07-20', '2021-07-21', '2021-07-22', '2021-07-23',\n",
              "       '2021-07-24', '2021-07-25', '2021-07-26', '2021-07-27',\n",
              "       '2021-07-28', '2021-07-29', '2021-07-30', '2021-07-31',\n",
              "       '2021-08-01', '2021-08-02'], dtype='datetime64[D]')"
            ]
          },
          "metadata": {},
          "execution_count": 23
        }
      ]
    },
    {
      "cell_type": "markdown",
      "metadata": {
        "id": "anupiFlXfUV4"
      },
      "source": [
        "Because of the uniform type in NumPy `datetime64` arrays, this kind of operation can be accomplished much more quickly than if we were working directly with Python's `datetime` objects, especially as arrays get large.\n",
        "\n",
        "One detail of the `datetime64` and related `timedelta64` objects is that they are built on a *fundamental time unit*.\n",
        "Because the `datetime64` object is limited to 64-bit precision, the range of encodable times is $2^{64}$ times this fundamental unit.\n",
        "In other words, `datetime64` imposes a trade-off between *time resolution* and *maximum time span*.\n",
        "\n",
        "For example, if you want a time resolution of 1 nanosecond, you only have enough information to encode a range of $2^{64}$ nanoseconds, or just under 600 years.\n",
        "NumPy will infer the desired unit from the input; for example, here is a day-based `datetime`:"
      ]
    },
    {
      "cell_type": "code",
      "execution_count": 26,
      "metadata": {
        "jupyter": {
          "outputs_hidden": false
        },
        "id": "LgdGEqAdfUV4",
        "outputId": "d8b4d28a-3c11-4134-aa8d-fed30f9ae5e0",
        "colab": {
          "base_uri": "https://localhost:8080/"
        }
      },
      "outputs": [
        {
          "output_type": "execute_result",
          "data": {
            "text/plain": [
              "numpy.datetime64('2021-07-04')"
            ]
          },
          "metadata": {},
          "execution_count": 26
        }
      ],
      "source": [
        "np.datetime64('2021-07-04')"
      ]
    },
    {
      "cell_type": "code",
      "source": [
        "np.datetime64('2021-07-04').dtype.name"
      ],
      "metadata": {
        "id": "7X-mKmzHz-Z7",
        "outputId": "df315b78-8688-4910-de79-a07e0aa75e40",
        "colab": {
          "base_uri": "https://localhost:8080/",
          "height": 36
        }
      },
      "execution_count": 27,
      "outputs": [
        {
          "output_type": "execute_result",
          "data": {
            "text/plain": [
              "'datetime64[D]'"
            ],
            "application/vnd.google.colaboratory.intrinsic+json": {
              "type": "string"
            }
          },
          "metadata": {},
          "execution_count": 27
        }
      ]
    },
    {
      "cell_type": "markdown",
      "metadata": {
        "id": "_hh63-GYfUV4"
      },
      "source": [
        "Here is a minute-based datetime:"
      ]
    },
    {
      "cell_type": "code",
      "execution_count": 28,
      "metadata": {
        "jupyter": {
          "outputs_hidden": false
        },
        "id": "UrQFk5rOfUV4",
        "outputId": "fea21379-1999-4e15-a264-741db92018ad",
        "colab": {
          "base_uri": "https://localhost:8080/"
        }
      },
      "outputs": [
        {
          "output_type": "execute_result",
          "data": {
            "text/plain": [
              "numpy.datetime64('2021-07-04T12:00')"
            ]
          },
          "metadata": {},
          "execution_count": 28
        }
      ],
      "source": [
        "np.datetime64('2021-07-04 12:00')"
      ]
    },
    {
      "cell_type": "code",
      "source": [
        "np.datetime64('2021-07-04 12:00').dtype.name"
      ],
      "metadata": {
        "id": "hxyu_GjV0CPp",
        "outputId": "21d261fa-01e9-44ed-e506-94225d38921e",
        "colab": {
          "base_uri": "https://localhost:8080/",
          "height": 36
        }
      },
      "execution_count": 29,
      "outputs": [
        {
          "output_type": "execute_result",
          "data": {
            "text/plain": [
              "'datetime64[m]'"
            ],
            "application/vnd.google.colaboratory.intrinsic+json": {
              "type": "string"
            }
          },
          "metadata": {},
          "execution_count": 29
        }
      ]
    },
    {
      "cell_type": "markdown",
      "metadata": {
        "id": "wSQwA-rhfUV4"
      },
      "source": [
        "You can force any desired fundamental unit using one of many format codes; for example, here we'll force a nanosecond-based time:"
      ]
    },
    {
      "cell_type": "code",
      "execution_count": 32,
      "metadata": {
        "jupyter": {
          "outputs_hidden": false
        },
        "id": "Xxr8VuKnfUV4",
        "outputId": "5ab8044b-2f0d-4c0c-c192-3612eabfd1d9",
        "colab": {
          "base_uri": "https://localhost:8080/"
        }
      },
      "outputs": [
        {
          "output_type": "execute_result",
          "data": {
            "text/plain": [
              "numpy.datetime64('2021-07-04T12:59:59.500000000')"
            ]
          },
          "metadata": {},
          "execution_count": 32
        }
      ],
      "source": [
        "np.datetime64('2021-07-04 12:59:59.50', 'ns')"
      ]
    },
    {
      "cell_type": "code",
      "source": [
        "np.datetime64('2021-07-04 12:59:59.50', 'ns').dtype.name"
      ],
      "metadata": {
        "id": "ZTONGqfA0e_3",
        "outputId": "6f0688f2-beaa-4ef7-f867-eb870bbcc030",
        "colab": {
          "base_uri": "https://localhost:8080/",
          "height": 36
        }
      },
      "execution_count": 33,
      "outputs": [
        {
          "output_type": "execute_result",
          "data": {
            "text/plain": [
              "'datetime64[ns]'"
            ],
            "application/vnd.google.colaboratory.intrinsic+json": {
              "type": "string"
            }
          },
          "metadata": {},
          "execution_count": 33
        }
      ]
    },
    {
      "cell_type": "markdown",
      "metadata": {
        "id": "dAHWkN5mfUV4"
      },
      "source": [
        "The following table, drawn from the NumPy `datetime64` documentation, lists the available format codes along with the relative and absolute time spans that they can encode:"
      ]
    },
    {
      "cell_type": "markdown",
      "metadata": {
        "id": "xn-k2LnHfUV4"
      },
      "source": [
        "|Code  | Meaning     | Time span (relative) | Time span (absolute)   |\n",
        "|------|-------------|----------------------|------------------------|\n",
        "| `Y`  | Year        | ± 9.2e18 years       | [9.2e18 BC, 9.2e18 AD] |\n",
        "| `M`  | Month       | ± 7.6e17 years       | [7.6e17 BC, 7.6e17 AD] |\n",
        "| `W`  | Week        | ± 1.7e17 years       | [1.7e17 BC, 1.7e17 AD] |\n",
        "| `D`  | Day         | ± 2.5e16 years       | [2.5e16 BC, 2.5e16 AD] |\n",
        "| `h`  | Hour        | ± 1.0e15 years       | [1.0e15 BC, 1.0e15 AD] |\n",
        "| `m`  | Minute      | ± 1.7e13 years       | [1.7e13 BC, 1.7e13 AD] |\n",
        "| `s`  | Second      | ± 2.9e12 years       | [ 2.9e9 BC, 2.9e9 AD]  |\n",
        "| `ms` | Millisecond | ± 2.9e9 years        | [ 2.9e6 BC, 2.9e6 AD]  |\n",
        "| `us` | Microsecond | ± 2.9e6 years        | [290301 BC, 294241 AD] |\n",
        "| `ns` | Nanosecond  | ± 292 years          | [ 1678 AD, 2262 AD]    |\n",
        "| `ps` | Picosecond  | ± 106 days           | [ 1969 AD, 1970 AD]    |\n",
        "| `fs` | Femtosecond | ± 2.6 hours          | [ 1969 AD, 1970 AD]    |\n",
        "| `as` | Attosecond  | ± 9.2 seconds        | [ 1969 AD, 1970 AD]    |"
      ]
    },
    {
      "cell_type": "markdown",
      "metadata": {
        "id": "MwbC2gfifUV4"
      },
      "source": [
        "For the types of data we see in the real world, a useful default is `datetime64[ns]`, as it can encode a useful range of modern dates with a suitably fine precision.\n",
        "\n",
        "Finally, note that while the `datetime64` data type addresses some of the deficiencies of the built-in Python `datetime` type, it lacks many of the convenient methods and functions provided by `datetime` and especially `dateutil`.\n",
        "More information can be found in [NumPy's `datetime64` documentation](http://docs.scipy.org/doc/numpy/reference/arrays.datetime.html)."
      ]
    },
    {
      "cell_type": "markdown",
      "metadata": {
        "id": "Aih8K7Z0fUV4"
      },
      "source": [
        "### Dates and Times in Pandas: The Best of Both Worlds\n",
        "\n",
        "Pandas builds upon all the tools just discussed to provide a `Timestamp` object, which combines the ease of use of `datetime` and `dateutil` with the efficient storage and vectorized interface of `numpy.datetime64`.\n",
        "From a group of these `Timestamp` objects, Pandas can construct a `DatetimeIndex` that can be used to index data in a `Series` or `DataFrame`.\n",
        "\n",
        "For example, we can use Pandas tools to repeat the demonstration from earlier.\n",
        "We can parse a flexibly formatted string date and use format codes to output the day of the week, as follows:"
      ]
    },
    {
      "cell_type": "code",
      "execution_count": 34,
      "metadata": {
        "jupyter": {
          "outputs_hidden": false
        },
        "id": "bYt6dka-fUV4"
      },
      "outputs": [],
      "source": [
        "import pandas as pd"
      ]
    },
    {
      "cell_type": "code",
      "execution_count": 35,
      "metadata": {
        "jupyter": {
          "outputs_hidden": false
        },
        "id": "q0wsAXzcfUV5",
        "outputId": "20aaf6a4-103f-4646-a173-4353c663e5c7",
        "colab": {
          "base_uri": "https://localhost:8080/"
        }
      },
      "outputs": [
        {
          "output_type": "execute_result",
          "data": {
            "text/plain": [
              "Timestamp('2021-07-04 00:00:00')"
            ]
          },
          "metadata": {},
          "execution_count": 35
        }
      ],
      "source": [
        "date = pd.to_datetime('4th of July, 2021')\n",
        "date"
      ]
    },
    {
      "cell_type": "code",
      "source": [
        "type(date)"
      ],
      "metadata": {
        "id": "hSGDfXQqcIkV",
        "outputId": "0e172c9c-9c55-4f3e-dcc1-9cf125afe000",
        "colab": {
          "base_uri": "https://localhost:8080/"
        }
      },
      "execution_count": 38,
      "outputs": [
        {
          "output_type": "execute_result",
          "data": {
            "text/plain": [
              "pandas._libs.tslibs.timestamps.Timestamp"
            ]
          },
          "metadata": {},
          "execution_count": 38
        }
      ]
    },
    {
      "cell_type": "code",
      "source": [
        "date.strftime('%A')"
      ],
      "metadata": {
        "id": "h8wEk82Mb5MZ",
        "outputId": "f76c8483-0bb6-48d1-a419-1a315227100d",
        "colab": {
          "base_uri": "https://localhost:8080/",
          "height": 36
        }
      },
      "execution_count": 37,
      "outputs": [
        {
          "output_type": "execute_result",
          "data": {
            "text/plain": [
              "'Sunday'"
            ],
            "application/vnd.google.colaboratory.intrinsic+json": {
              "type": "string"
            }
          },
          "metadata": {},
          "execution_count": 37
        }
      ]
    },
    {
      "cell_type": "markdown",
      "metadata": {
        "id": "jNMUNdIrfUV5"
      },
      "source": [
        "Additionally, we can do NumPy-style vectorized operations directly on this same object:"
      ]
    },
    {
      "cell_type": "code",
      "execution_count": 43,
      "metadata": {
        "jupyter": {
          "outputs_hidden": false
        },
        "id": "-ukvpzjpfUV5",
        "outputId": "f0512368-164d-4571-a387-6638958ab64f",
        "colab": {
          "base_uri": "https://localhost:8080/"
        }
      },
      "outputs": [
        {
          "output_type": "execute_result",
          "data": {
            "text/plain": [
              "DatetimeIndex(['2021-07-04', '2021-07-05', '2021-07-06', '2021-07-07',\n",
              "               '2021-07-08', '2021-07-09', '2021-07-10', '2021-07-11',\n",
              "               '2021-07-12', '2021-07-13', '2021-07-14', '2021-07-15'],\n",
              "              dtype='datetime64[ns]', freq=None)"
            ]
          },
          "metadata": {},
          "execution_count": 43
        }
      ],
      "source": [
        "date + pd.to_timedelta(np.arange(12), 'D')"
      ]
    },
    {
      "cell_type": "markdown",
      "metadata": {
        "id": "kbSSzMhPfUV5"
      },
      "source": [
        "In the next section, we will take a closer look at manipulating time series data with the tools provided by Pandas."
      ]
    },
    {
      "cell_type": "markdown",
      "metadata": {
        "id": "Z5rzDGLjfUV5"
      },
      "source": [
        "## Pandas Time Series: Indexing by Time\n",
        "\n",
        "The Pandas time series tools really become useful when you begin to index data by timestamps.\n",
        "For example, we can construct a `Series` object that has time-indexed data:"
      ]
    },
    {
      "cell_type": "code",
      "execution_count": 48,
      "metadata": {
        "jupyter": {
          "outputs_hidden": false
        },
        "id": "pkeOFJBLfUV5",
        "outputId": "ec8d86cd-18ee-4c97-f9eb-dfee038e943c",
        "colab": {
          "base_uri": "https://localhost:8080/"
        }
      },
      "outputs": [
        {
          "output_type": "execute_result",
          "data": {
            "text/plain": [
              "2020-07-04    0\n",
              "2020-08-04    1\n",
              "2021-07-04    2\n",
              "2021-08-04    3\n",
              "dtype: int64"
            ]
          },
          "metadata": {},
          "execution_count": 48
        }
      ],
      "source": [
        "index = pd.DatetimeIndex(['2020-07-04', '2020-08-04',\n",
        "                          '2021-07-04', '2021-08-04'])\n",
        "\n",
        "data = pd.Series([0,1,2,3], index=index)\n",
        "data"
      ]
    },
    {
      "cell_type": "markdown",
      "metadata": {
        "id": "zXAwjGAofUV5"
      },
      "source": [
        "And now that we have this data in a `Series`, we can make use of any of the `Series` indexing patterns we discussed in previous chapters, passing values that can be coerced into dates:"
      ]
    },
    {
      "cell_type": "code",
      "execution_count": 49,
      "metadata": {
        "jupyter": {
          "outputs_hidden": false
        },
        "id": "nnvkV1VpfUV5",
        "outputId": "9d589a0e-8c3b-4e4c-990c-de7b1966e26d",
        "colab": {
          "base_uri": "https://localhost:8080/"
        }
      },
      "outputs": [
        {
          "output_type": "execute_result",
          "data": {
            "text/plain": [
              "2020-07-04    0\n",
              "2020-08-04    1\n",
              "2021-07-04    2\n",
              "dtype: int64"
            ]
          },
          "metadata": {},
          "execution_count": 49
        }
      ],
      "source": [
        "data['2020-07-04':'2021-07-04']"
      ]
    },
    {
      "cell_type": "markdown",
      "metadata": {
        "id": "qdrGqqsEfUV5"
      },
      "source": [
        "There are additional special date-only indexing operations, such as passing a year to obtain a slice of all data from that year:"
      ]
    },
    {
      "cell_type": "code",
      "execution_count": 50,
      "metadata": {
        "jupyter": {
          "outputs_hidden": false
        },
        "id": "oP5DdNX7fUV5",
        "outputId": "f0bac00f-3f93-4940-f677-a8b0a6770503",
        "colab": {
          "base_uri": "https://localhost:8080/"
        }
      },
      "outputs": [
        {
          "output_type": "execute_result",
          "data": {
            "text/plain": [
              "2021-07-04    2\n",
              "2021-08-04    3\n",
              "dtype: int64"
            ]
          },
          "metadata": {},
          "execution_count": 50
        }
      ],
      "source": [
        "data['2021'] #년으로 추출할 수도 있음."
      ]
    },
    {
      "cell_type": "markdown",
      "metadata": {
        "id": "t5jBFFyZfUV6"
      },
      "source": [
        "Later, we will see additional examples of the convenience of dates-as-indices.\n",
        "But first, let's take a closer look at the available time series data structures."
      ]
    },
    {
      "cell_type": "markdown",
      "metadata": {
        "id": "79CV2-7SfUV6"
      },
      "source": [
        "## Pandas Time Series Data Structures\n",
        "\n",
        "This section will introduce the fundamental Pandas data structures for working with time series data:\n",
        "\n",
        "- For *timestamps*, Pandas provides the `Timestamp` type. As mentioned before, this is essentially a replacement for Python's native `datetime`, but it's based on the more efficient `numpy.datetime64` data type. The associated `Index` structure is `DatetimeIndex`.\n",
        "- For *time periods*, Pandas provides the `Period` type. This encodes a fixed-frequency interval based on `numpy.datetime64`. The associated index structure is `PeriodIndex`.\n",
        "- For *time deltas* or *durations*, Pandas provides the `Timedelta` type. `Timedelta` is a more efficient replacement for Python's native `datetime.timedelta` type, and is based on `numpy.timedelta64`. The associated index structure is `TimedeltaIndex`."
      ]
    },
    {
      "cell_type": "markdown",
      "metadata": {
        "id": "5twNxGNdfUV6"
      },
      "source": [
        "The most fundamental of these date/time objects are the `Timestamp` and `DatetimeIndex` objects.\n",
        "While these class objects can be invoked directly, it is more common to use the `pd.to_datetime` function, which can parse a wide variety of formats.\n",
        "Passing a single date to `pd.to_datetime` yields a `Timestamp`; passing a series of dates by default yields a `DatetimeIndex`. Let's try:"
      ]
    },
    {
      "cell_type": "code",
      "execution_count": 53,
      "metadata": {
        "jupyter": {
          "outputs_hidden": false
        },
        "id": "BxVVz91ifUV6",
        "outputId": "5b736b0d-328f-4ff2-9938-ded600ec1676",
        "colab": {
          "base_uri": "https://localhost:8080/"
        }
      },
      "outputs": [
        {
          "output_type": "execute_result",
          "data": {
            "text/plain": [
              "DatetimeIndex(['2021-07-03', '2021-07-04', '2021-07-06', '2021-07-07',\n",
              "               '2021-07-08'],\n",
              "              dtype='datetime64[ns]', freq=None)"
            ]
          },
          "metadata": {},
          "execution_count": 53
        }
      ],
      "source": [
        "dates = pd.to_datetime([datetime(2021, 7, 3), '4th of July, 2021',\n",
        "                       '2021-Jul-6', '07-07-2021', '20210708'])\n",
        "dates"
      ]
    },
    {
      "cell_type": "markdown",
      "metadata": {
        "id": "rOAS-xLJfUV6"
      },
      "source": [
        "Any `DatetimeIndex` can be converted to a `PeriodIndex` with the `to_period` function, with the addition of a frequency code; here we'll use `'D'` to indicate daily frequency:"
      ]
    },
    {
      "cell_type": "code",
      "source": [
        "dates.to_period('D')"
      ],
      "metadata": {
        "id": "DkG0czyefMzG",
        "outputId": "137fde2b-a447-4258-a4db-f45381da5e83",
        "colab": {
          "base_uri": "https://localhost:8080/"
        }
      },
      "execution_count": 54,
      "outputs": [
        {
          "output_type": "execute_result",
          "data": {
            "text/plain": [
              "PeriodIndex(['2021-07-03', '2021-07-04', '2021-07-06', '2021-07-07',\n",
              "             '2021-07-08'],\n",
              "            dtype='period[D]')"
            ]
          },
          "metadata": {},
          "execution_count": 54
        }
      ]
    },
    {
      "cell_type": "code",
      "execution_count": 55,
      "metadata": {
        "jupyter": {
          "outputs_hidden": false
        },
        "id": "yyO4OZwVfUV6",
        "outputId": "fa5e64ca-9846-46fc-e995-0b1edda1d9a5",
        "colab": {
          "base_uri": "https://localhost:8080/"
        }
      },
      "outputs": [
        {
          "output_type": "execute_result",
          "data": {
            "text/plain": [
              "Timestamp('2021-07-03 00:00:00')"
            ]
          },
          "metadata": {},
          "execution_count": 55
        }
      ],
      "source": [
        "dates[0]"
      ]
    },
    {
      "cell_type": "markdown",
      "metadata": {
        "id": "Qu_AXY0LfUV6"
      },
      "source": [
        "A `TimedeltaIndex` is created, for example, when a date is subtracted from another:"
      ]
    },
    {
      "cell_type": "code",
      "execution_count": 56,
      "metadata": {
        "jupyter": {
          "outputs_hidden": false
        },
        "id": "CQxTFZbyfUV6",
        "outputId": "cc4d06a7-263a-4748-812d-0ce961c60136",
        "colab": {
          "base_uri": "https://localhost:8080/"
        }
      },
      "outputs": [
        {
          "output_type": "execute_result",
          "data": {
            "text/plain": [
              "Timestamp('2021-07-03 00:00:00')"
            ]
          },
          "metadata": {},
          "execution_count": 56
        }
      ],
      "source": [
        "dates.to_period('D')[0].start_time"
      ]
    },
    {
      "cell_type": "code",
      "source": [
        "dates.to_period('D')[0].end_time"
      ],
      "metadata": {
        "id": "Bv1AV0Vxf8aW",
        "outputId": "b15344ab-d059-49fb-fc92-a95e1ad87a12",
        "colab": {
          "base_uri": "https://localhost:8080/"
        }
      },
      "execution_count": 57,
      "outputs": [
        {
          "output_type": "execute_result",
          "data": {
            "text/plain": [
              "Timestamp('2021-07-03 23:59:59.999999999')"
            ]
          },
          "metadata": {},
          "execution_count": 57
        }
      ]
    },
    {
      "cell_type": "code",
      "source": [
        "dates - dates[0]"
      ],
      "metadata": {
        "id": "OGY3sggPgLdK",
        "outputId": "d82b50c0-79dc-4142-a683-664bc13be24d",
        "colab": {
          "base_uri": "https://localhost:8080/"
        }
      },
      "execution_count": 58,
      "outputs": [
        {
          "output_type": "execute_result",
          "data": {
            "text/plain": [
              "TimedeltaIndex(['0 days', '1 days', '3 days', '4 days', '5 days'], dtype='timedelta64[ns]', freq=None)"
            ]
          },
          "metadata": {},
          "execution_count": 58
        }
      ]
    },
    {
      "cell_type": "markdown",
      "metadata": {
        "id": "1WMAnzUwfUV6"
      },
      "source": [
        "## Regular Sequences: pd.date_range\n",
        "\n",
        "To make the creation of regular date sequences more convenient, Pandas offers a few functions for this purpose: `pd.date_range` for timestamps, `pd.period_range` for periods, and `pd.timedelta_range` for time deltas.\n",
        "We've seen that Python's `range` and NumPy's `np.arange` take a start point, end point, and optional step size and return a sequence.\n",
        "Similarly, `pd.date_range` accepts a start date, an end date, and an optional frequency code to create a regular sequence of dates:"
      ]
    },
    {
      "cell_type": "code",
      "execution_count": 59,
      "metadata": {
        "jupyter": {
          "outputs_hidden": false
        },
        "id": "JV2AnW5GfUV6",
        "outputId": "1e41887c-c205-4193-82bf-ada1a06da051",
        "colab": {
          "base_uri": "https://localhost:8080/"
        }
      },
      "outputs": [
        {
          "output_type": "execute_result",
          "data": {
            "text/plain": [
              "DatetimeIndex(['2015-07-03', '2015-07-04', '2015-07-05', '2015-07-06',\n",
              "               '2015-07-07', '2015-07-08', '2015-07-09', '2015-07-10'],\n",
              "              dtype='datetime64[ns]', freq='D')"
            ]
          },
          "metadata": {},
          "execution_count": 59
        }
      ],
      "source": [
        "pd.date_range('2015-07-03', '2015-07-10')"
      ]
    },
    {
      "cell_type": "markdown",
      "metadata": {
        "id": "-SzgJPLCfUV6"
      },
      "source": [
        "Alternatively, the date range can be specified not with a start and end point, but with a start point and a number of periods:"
      ]
    },
    {
      "cell_type": "code",
      "execution_count": 60,
      "metadata": {
        "jupyter": {
          "outputs_hidden": false
        },
        "id": "hbmf9sOJfUV7",
        "outputId": "a8da9da0-e019-4705-dd0f-56f5cbe46896",
        "colab": {
          "base_uri": "https://localhost:8080/"
        }
      },
      "outputs": [
        {
          "output_type": "execute_result",
          "data": {
            "text/plain": [
              "DatetimeIndex(['2015-07-03', '2015-07-04', '2015-07-05', '2015-07-06',\n",
              "               '2015-07-07', '2015-07-08', '2015-07-09', '2015-07-10'],\n",
              "              dtype='datetime64[ns]', freq='D')"
            ]
          },
          "metadata": {},
          "execution_count": 60
        }
      ],
      "source": [
        "pd.date_range('2015-07-03', periods=8)"
      ]
    },
    {
      "cell_type": "markdown",
      "metadata": {
        "id": "NdGSL8L1fUV7"
      },
      "source": [
        "The spacing can be modified by altering the `freq` argument, which defaults to `D`.\n",
        "For example, here we construct a range of hourly timestamps:"
      ]
    },
    {
      "cell_type": "code",
      "execution_count": 64,
      "metadata": {
        "jupyter": {
          "outputs_hidden": false
        },
        "id": "rnGcsCscfUV7",
        "outputId": "5b41e8e0-d030-4937-cb4e-654e4e6eee69",
        "colab": {
          "base_uri": "https://localhost:8080/"
        }
      },
      "outputs": [
        {
          "output_type": "execute_result",
          "data": {
            "text/plain": [
              "DatetimeIndex(['2015-07-03 00:00:00', '2015-07-03 00:01:00',\n",
              "               '2015-07-03 00:02:00', '2015-07-03 00:03:00',\n",
              "               '2015-07-03 00:04:00', '2015-07-03 00:05:00',\n",
              "               '2015-07-03 00:06:00', '2015-07-03 00:07:00'],\n",
              "              dtype='datetime64[ns]', freq='T')"
            ]
          },
          "metadata": {},
          "execution_count": 64
        }
      ],
      "source": [
        "pd.date_range('2015-07-03', periods=8, freq='min')"
      ]
    },
    {
      "cell_type": "code",
      "source": [
        "pd.date_range('2015-07-03', periods=365, freq='M')"
      ],
      "metadata": {
        "id": "y0a6XgEEhfoU",
        "outputId": "17361bcd-587d-4df4-c8c8-d8a7a840df25",
        "colab": {
          "base_uri": "https://localhost:8080/"
        }
      },
      "execution_count": 70,
      "outputs": [
        {
          "output_type": "execute_result",
          "data": {
            "text/plain": [
              "DatetimeIndex(['2015-07-31', '2015-08-31', '2015-09-30', '2015-10-31',\n",
              "               '2015-11-30', '2015-12-31', '2016-01-31', '2016-02-29',\n",
              "               '2016-03-31', '2016-04-30',\n",
              "               ...\n",
              "               '2045-02-28', '2045-03-31', '2045-04-30', '2045-05-31',\n",
              "               '2045-06-30', '2045-07-31', '2045-08-31', '2045-09-30',\n",
              "               '2045-10-31', '2045-11-30'],\n",
              "              dtype='datetime64[ns]', length=365, freq='M')"
            ]
          },
          "metadata": {},
          "execution_count": 70
        }
      ]
    },
    {
      "cell_type": "markdown",
      "metadata": {
        "id": "sV_kZe25fUV7"
      },
      "source": [
        "To create regular sequences of `Period` or `Timedelta` values, the similar `pd.period_range` and `pd.timedelta_range` functions are useful.\n",
        "Here are some monthly periods:"
      ]
    },
    {
      "cell_type": "code",
      "execution_count": 76,
      "metadata": {
        "jupyter": {
          "outputs_hidden": false
        },
        "id": "vJdxWHWOfUV7",
        "outputId": "d98a8416-4c91-4c37-e051-7384363f74a6",
        "colab": {
          "base_uri": "https://localhost:8080/"
        }
      },
      "outputs": [
        {
          "output_type": "execute_result",
          "data": {
            "text/plain": [
              "PeriodIndex(['2015-07-31 00:00', '2015-07-31 00:01', '2015-07-31 00:02',\n",
              "             '2015-07-31 00:03', '2015-07-31 00:04', '2015-07-31 00:05',\n",
              "             '2015-07-31 00:06', '2015-07-31 00:07', '2015-07-31 00:08'],\n",
              "            dtype='period[T]')"
            ]
          },
          "metadata": {},
          "execution_count": 76
        }
      ],
      "source": [
        "pd.period_range('2015-07-31', periods=9, freq='min')"
      ]
    },
    {
      "cell_type": "markdown",
      "metadata": {
        "id": "Q_ZnbihIfUV7"
      },
      "source": [
        "And a sequence of durations increasing by an hour:"
      ]
    },
    {
      "cell_type": "code",
      "execution_count": 67,
      "metadata": {
        "jupyter": {
          "outputs_hidden": false
        },
        "id": "32Bs3wgDfUV7",
        "outputId": "d968c9e2-045d-4aa3-903c-3a7cd66d763f",
        "colab": {
          "base_uri": "https://localhost:8080/"
        }
      },
      "outputs": [
        {
          "output_type": "execute_result",
          "data": {
            "text/plain": [
              "TimedeltaIndex(['0 days 00:00:00', '0 days 01:00:00', '0 days 02:00:00',\n",
              "                '0 days 03:00:00', '0 days 04:00:00', '0 days 05:00:00'],\n",
              "               dtype='timedelta64[ns]', freq='H')"
            ]
          },
          "metadata": {},
          "execution_count": 67
        }
      ],
      "source": [
        "pd.timedelta_range(0, periods=6, freq='H')"
      ]
    },
    {
      "cell_type": "markdown",
      "metadata": {
        "id": "7N13DxaCfUV7"
      },
      "source": [
        "All of these require an understanding of Pandas frequency codes, which are summarized in the next section."
      ]
    },
    {
      "cell_type": "markdown",
      "metadata": {
        "id": "H5HzCz2YfUV7"
      },
      "source": [
        "## Frequencies and Offsets\n",
        "\n",
        "Fundamental to these Pandas time series tools is the concept of a *frequency* or *date offset*. The following table summarizes the main codes available; as with the `D` (day) and `H` (hour) codes demonstrated in the previous sections, we can use these to specify any desired frequency spacing:"
      ]
    },
    {
      "cell_type": "markdown",
      "metadata": {
        "id": "qz7GrittfUV7"
      },
      "source": [
        "| Code | Description       | Code | Description          |\n",
        "|------|-------------------|------|----------------------|\n",
        "| `D`  | Calendar day      | `B`  | Business day         |\n",
        "| `W`  | Weekly            |      |                      |\n",
        "| `M`  | Month end         | `BM` | Business month end   |\n",
        "| `Q`  | Quarter end       | `BQ` | Business quarter end |\n",
        "| `A`  | Year end          | `BA` | Business year end    |\n",
        "| `H`  | Hours             | `BH` | Business hours       |\n",
        "| `T`  | Minutes           |      |                      |\n",
        "| `S`  | Seconds           |      |                      |\n",
        "| `L`  | Milliseconds       |      |                      |\n",
        "| `U`  | Microseconds      |      |                      |\n",
        "| `N`  | Nanoseconds       |      |                      |"
      ]
    },
    {
      "cell_type": "markdown",
      "metadata": {
        "id": "oF5aZGyffUV7"
      },
      "source": [
        "The monthly, quarterly, and annual frequencies are all marked at the end of the specified period.\n",
        "Adding an `S` suffix to any of these causes them to instead be marked at the beginning:"
      ]
    },
    {
      "cell_type": "markdown",
      "metadata": {
        "id": "_GGEZ9-afUV7"
      },
      "source": [
        "| Code  | Description       | Code  | Description            |\n",
        "|-------|-------------------|-------|------------------------|\n",
        "| `MS`  | Month start       |`BMS`  | Business month start   |\n",
        "| `QS`  | Quarter start     |`BQS`  | Business quarter start |\n",
        "| `AS`  | Year start        |`BAS`  | Business year start    |"
      ]
    },
    {
      "cell_type": "markdown",
      "metadata": {
        "id": "pNSJTsztfUV8"
      },
      "source": [
        "For more discussion of the use of frequencies and offsets, see the [`DateOffset` section](https://pandas.pydata.org/pandas-docs/stable/user_guide/timeseries.html#dateoffset-objects) of the Pandas documentation."
      ]
    },
    {
      "cell_type": "markdown",
      "metadata": {
        "id": "PAhAt16hfUV8"
      },
      "source": [
        "## Resampling, Shifting, and Windowing\n",
        "\n",
        "The ability to use dates and times as indices to intuitively organize and access data is an important aspect of the Pandas time series tools.\n",
        "The benefits of indexed data in general (automatic alignment during operations, intuitive data slicing and access, etc.) still apply, and Pandas provides several additional time series–specific operations.\n",
        "\n",
        "We will take a look at a few of those here, using some stock price data as an example.\n",
        "Because Pandas was developed largely in a finance context, it includes some very specific tools for financial data.\n",
        "For example, the accompanying `pandas-datareader` package (installable via `pip install pandas-datareader`) knows how to import data from various online sources.\n",
        "Here we will load part of the S&P 500 price history:"
      ]
    },
    {
      "cell_type": "code",
      "source": [
        "data.DataReader()"
      ],
      "metadata": {
        "id": "ny0__nDW49cq"
      },
      "execution_count": null,
      "outputs": []
    },
    {
      "cell_type": "code",
      "source": [
        "import yfinance as yf\n",
        "\n",
        "sp500 = yf.download('^GSPC', start='2018-01-01', end='2022-01-01')\n"
      ],
      "metadata": {
        "id": "sGRUIQIs5P37",
        "outputId": "7d3aac39-d4aa-4966-ab28-73ee88a4e723",
        "colab": {
          "base_uri": "https://localhost:8080/"
        }
      },
      "execution_count": 112,
      "outputs": [
        {
          "output_type": "stream",
          "name": "stdout",
          "text": [
            "\r[*********************100%%**********************]  1 of 1 completed\n"
          ]
        }
      ]
    },
    {
      "cell_type": "code",
      "execution_count": 78,
      "metadata": {
        "jupyter": {
          "outputs_hidden": false
        },
        "id": "vFw3GbydfUV8",
        "outputId": "60be6800-bf49-4730-eac5-f90b0d0996b8",
        "colab": {
          "base_uri": "https://localhost:8080/",
          "height": 238
        }
      },
      "outputs": [
        {
          "output_type": "execute_result",
          "data": {
            "text/plain": [
              "                   Open         High          Low        Close    Adj Close  \\\n",
              "Date                                                                          \n",
              "2018-01-02  2683.729980  2695.889893  2682.360107  2695.810059  2695.810059   \n",
              "2018-01-03  2697.850098  2714.370117  2697.770020  2713.060059  2713.060059   \n",
              "2018-01-04  2719.310059  2729.290039  2719.070068  2723.989990  2723.989990   \n",
              "2018-01-05  2731.330078  2743.449951  2727.919922  2743.149902  2743.149902   \n",
              "2018-01-08  2742.669922  2748.510010  2737.600098  2747.709961  2747.709961   \n",
              "\n",
              "                Volume  \n",
              "Date                    \n",
              "2018-01-02  3397430000  \n",
              "2018-01-03  3544030000  \n",
              "2018-01-04  3697340000  \n",
              "2018-01-05  3239280000  \n",
              "2018-01-08  3246160000  "
            ],
            "text/html": [
              "\n",
              "  <div id=\"df-89cb8392-24cf-4f34-976b-8366f0a741d7\" class=\"colab-df-container\">\n",
              "    <div>\n",
              "<style scoped>\n",
              "    .dataframe tbody tr th:only-of-type {\n",
              "        vertical-align: middle;\n",
              "    }\n",
              "\n",
              "    .dataframe tbody tr th {\n",
              "        vertical-align: top;\n",
              "    }\n",
              "\n",
              "    .dataframe thead th {\n",
              "        text-align: right;\n",
              "    }\n",
              "</style>\n",
              "<table border=\"1\" class=\"dataframe\">\n",
              "  <thead>\n",
              "    <tr style=\"text-align: right;\">\n",
              "      <th></th>\n",
              "      <th>Open</th>\n",
              "      <th>High</th>\n",
              "      <th>Low</th>\n",
              "      <th>Close</th>\n",
              "      <th>Adj Close</th>\n",
              "      <th>Volume</th>\n",
              "    </tr>\n",
              "    <tr>\n",
              "      <th>Date</th>\n",
              "      <th></th>\n",
              "      <th></th>\n",
              "      <th></th>\n",
              "      <th></th>\n",
              "      <th></th>\n",
              "      <th></th>\n",
              "    </tr>\n",
              "  </thead>\n",
              "  <tbody>\n",
              "    <tr>\n",
              "      <th>2018-01-02</th>\n",
              "      <td>2683.729980</td>\n",
              "      <td>2695.889893</td>\n",
              "      <td>2682.360107</td>\n",
              "      <td>2695.810059</td>\n",
              "      <td>2695.810059</td>\n",
              "      <td>3397430000</td>\n",
              "    </tr>\n",
              "    <tr>\n",
              "      <th>2018-01-03</th>\n",
              "      <td>2697.850098</td>\n",
              "      <td>2714.370117</td>\n",
              "      <td>2697.770020</td>\n",
              "      <td>2713.060059</td>\n",
              "      <td>2713.060059</td>\n",
              "      <td>3544030000</td>\n",
              "    </tr>\n",
              "    <tr>\n",
              "      <th>2018-01-04</th>\n",
              "      <td>2719.310059</td>\n",
              "      <td>2729.290039</td>\n",
              "      <td>2719.070068</td>\n",
              "      <td>2723.989990</td>\n",
              "      <td>2723.989990</td>\n",
              "      <td>3697340000</td>\n",
              "    </tr>\n",
              "    <tr>\n",
              "      <th>2018-01-05</th>\n",
              "      <td>2731.330078</td>\n",
              "      <td>2743.449951</td>\n",
              "      <td>2727.919922</td>\n",
              "      <td>2743.149902</td>\n",
              "      <td>2743.149902</td>\n",
              "      <td>3239280000</td>\n",
              "    </tr>\n",
              "    <tr>\n",
              "      <th>2018-01-08</th>\n",
              "      <td>2742.669922</td>\n",
              "      <td>2748.510010</td>\n",
              "      <td>2737.600098</td>\n",
              "      <td>2747.709961</td>\n",
              "      <td>2747.709961</td>\n",
              "      <td>3246160000</td>\n",
              "    </tr>\n",
              "  </tbody>\n",
              "</table>\n",
              "</div>\n",
              "    <div class=\"colab-df-buttons\">\n",
              "\n",
              "  <div class=\"colab-df-container\">\n",
              "    <button class=\"colab-df-convert\" onclick=\"convertToInteractive('df-89cb8392-24cf-4f34-976b-8366f0a741d7')\"\n",
              "            title=\"Convert this dataframe to an interactive table.\"\n",
              "            style=\"display:none;\">\n",
              "\n",
              "  <svg xmlns=\"http://www.w3.org/2000/svg\" height=\"24px\" viewBox=\"0 -960 960 960\">\n",
              "    <path d=\"M120-120v-720h720v720H120Zm60-500h600v-160H180v160Zm220 220h160v-160H400v160Zm0 220h160v-160H400v160ZM180-400h160v-160H180v160Zm440 0h160v-160H620v160ZM180-180h160v-160H180v160Zm440 0h160v-160H620v160Z\"/>\n",
              "  </svg>\n",
              "    </button>\n",
              "\n",
              "  <style>\n",
              "    .colab-df-container {\n",
              "      display:flex;\n",
              "      gap: 12px;\n",
              "    }\n",
              "\n",
              "    .colab-df-convert {\n",
              "      background-color: #E8F0FE;\n",
              "      border: none;\n",
              "      border-radius: 50%;\n",
              "      cursor: pointer;\n",
              "      display: none;\n",
              "      fill: #1967D2;\n",
              "      height: 32px;\n",
              "      padding: 0 0 0 0;\n",
              "      width: 32px;\n",
              "    }\n",
              "\n",
              "    .colab-df-convert:hover {\n",
              "      background-color: #E2EBFA;\n",
              "      box-shadow: 0px 1px 2px rgba(60, 64, 67, 0.3), 0px 1px 3px 1px rgba(60, 64, 67, 0.15);\n",
              "      fill: #174EA6;\n",
              "    }\n",
              "\n",
              "    .colab-df-buttons div {\n",
              "      margin-bottom: 4px;\n",
              "    }\n",
              "\n",
              "    [theme=dark] .colab-df-convert {\n",
              "      background-color: #3B4455;\n",
              "      fill: #D2E3FC;\n",
              "    }\n",
              "\n",
              "    [theme=dark] .colab-df-convert:hover {\n",
              "      background-color: #434B5C;\n",
              "      box-shadow: 0px 1px 3px 1px rgba(0, 0, 0, 0.15);\n",
              "      filter: drop-shadow(0px 1px 2px rgba(0, 0, 0, 0.3));\n",
              "      fill: #FFFFFF;\n",
              "    }\n",
              "  </style>\n",
              "\n",
              "    <script>\n",
              "      const buttonEl =\n",
              "        document.querySelector('#df-89cb8392-24cf-4f34-976b-8366f0a741d7 button.colab-df-convert');\n",
              "      buttonEl.style.display =\n",
              "        google.colab.kernel.accessAllowed ? 'block' : 'none';\n",
              "\n",
              "      async function convertToInteractive(key) {\n",
              "        const element = document.querySelector('#df-89cb8392-24cf-4f34-976b-8366f0a741d7');\n",
              "        const dataTable =\n",
              "          await google.colab.kernel.invokeFunction('convertToInteractive',\n",
              "                                                    [key], {});\n",
              "        if (!dataTable) return;\n",
              "\n",
              "        const docLinkHtml = 'Like what you see? Visit the ' +\n",
              "          '<a target=\"_blank\" href=https://colab.research.google.com/notebooks/data_table.ipynb>data table notebook</a>'\n",
              "          + ' to learn more about interactive tables.';\n",
              "        element.innerHTML = '';\n",
              "        dataTable['output_type'] = 'display_data';\n",
              "        await google.colab.output.renderOutput(dataTable, element);\n",
              "        const docLink = document.createElement('div');\n",
              "        docLink.innerHTML = docLinkHtml;\n",
              "        element.appendChild(docLink);\n",
              "      }\n",
              "    </script>\n",
              "  </div>\n",
              "\n",
              "\n",
              "<div id=\"df-e5644e1f-80a4-4bca-a97e-ebb745c2c7f3\">\n",
              "  <button class=\"colab-df-quickchart\" onclick=\"quickchart('df-e5644e1f-80a4-4bca-a97e-ebb745c2c7f3')\"\n",
              "            title=\"Suggest charts.\"\n",
              "            style=\"display:none;\">\n",
              "\n",
              "<svg xmlns=\"http://www.w3.org/2000/svg\" height=\"24px\"viewBox=\"0 0 24 24\"\n",
              "     width=\"24px\">\n",
              "    <g>\n",
              "        <path d=\"M19 3H5c-1.1 0-2 .9-2 2v14c0 1.1.9 2 2 2h14c1.1 0 2-.9 2-2V5c0-1.1-.9-2-2-2zM9 17H7v-7h2v7zm4 0h-2V7h2v10zm4 0h-2v-4h2v4z\"/>\n",
              "    </g>\n",
              "</svg>\n",
              "  </button>\n",
              "\n",
              "<style>\n",
              "  .colab-df-quickchart {\n",
              "      --bg-color: #E8F0FE;\n",
              "      --fill-color: #1967D2;\n",
              "      --hover-bg-color: #E2EBFA;\n",
              "      --hover-fill-color: #174EA6;\n",
              "      --disabled-fill-color: #AAA;\n",
              "      --disabled-bg-color: #DDD;\n",
              "  }\n",
              "\n",
              "  [theme=dark] .colab-df-quickchart {\n",
              "      --bg-color: #3B4455;\n",
              "      --fill-color: #D2E3FC;\n",
              "      --hover-bg-color: #434B5C;\n",
              "      --hover-fill-color: #FFFFFF;\n",
              "      --disabled-bg-color: #3B4455;\n",
              "      --disabled-fill-color: #666;\n",
              "  }\n",
              "\n",
              "  .colab-df-quickchart {\n",
              "    background-color: var(--bg-color);\n",
              "    border: none;\n",
              "    border-radius: 50%;\n",
              "    cursor: pointer;\n",
              "    display: none;\n",
              "    fill: var(--fill-color);\n",
              "    height: 32px;\n",
              "    padding: 0;\n",
              "    width: 32px;\n",
              "  }\n",
              "\n",
              "  .colab-df-quickchart:hover {\n",
              "    background-color: var(--hover-bg-color);\n",
              "    box-shadow: 0 1px 2px rgba(60, 64, 67, 0.3), 0 1px 3px 1px rgba(60, 64, 67, 0.15);\n",
              "    fill: var(--button-hover-fill-color);\n",
              "  }\n",
              "\n",
              "  .colab-df-quickchart-complete:disabled,\n",
              "  .colab-df-quickchart-complete:disabled:hover {\n",
              "    background-color: var(--disabled-bg-color);\n",
              "    fill: var(--disabled-fill-color);\n",
              "    box-shadow: none;\n",
              "  }\n",
              "\n",
              "  .colab-df-spinner {\n",
              "    border: 2px solid var(--fill-color);\n",
              "    border-color: transparent;\n",
              "    border-bottom-color: var(--fill-color);\n",
              "    animation:\n",
              "      spin 1s steps(1) infinite;\n",
              "  }\n",
              "\n",
              "  @keyframes spin {\n",
              "    0% {\n",
              "      border-color: transparent;\n",
              "      border-bottom-color: var(--fill-color);\n",
              "      border-left-color: var(--fill-color);\n",
              "    }\n",
              "    20% {\n",
              "      border-color: transparent;\n",
              "      border-left-color: var(--fill-color);\n",
              "      border-top-color: var(--fill-color);\n",
              "    }\n",
              "    30% {\n",
              "      border-color: transparent;\n",
              "      border-left-color: var(--fill-color);\n",
              "      border-top-color: var(--fill-color);\n",
              "      border-right-color: var(--fill-color);\n",
              "    }\n",
              "    40% {\n",
              "      border-color: transparent;\n",
              "      border-right-color: var(--fill-color);\n",
              "      border-top-color: var(--fill-color);\n",
              "    }\n",
              "    60% {\n",
              "      border-color: transparent;\n",
              "      border-right-color: var(--fill-color);\n",
              "    }\n",
              "    80% {\n",
              "      border-color: transparent;\n",
              "      border-right-color: var(--fill-color);\n",
              "      border-bottom-color: var(--fill-color);\n",
              "    }\n",
              "    90% {\n",
              "      border-color: transparent;\n",
              "      border-bottom-color: var(--fill-color);\n",
              "    }\n",
              "  }\n",
              "</style>\n",
              "\n",
              "  <script>\n",
              "    async function quickchart(key) {\n",
              "      const quickchartButtonEl =\n",
              "        document.querySelector('#' + key + ' button');\n",
              "      quickchartButtonEl.disabled = true;  // To prevent multiple clicks.\n",
              "      quickchartButtonEl.classList.add('colab-df-spinner');\n",
              "      try {\n",
              "        const charts = await google.colab.kernel.invokeFunction(\n",
              "            'suggestCharts', [key], {});\n",
              "      } catch (error) {\n",
              "        console.error('Error during call to suggestCharts:', error);\n",
              "      }\n",
              "      quickchartButtonEl.classList.remove('colab-df-spinner');\n",
              "      quickchartButtonEl.classList.add('colab-df-quickchart-complete');\n",
              "    }\n",
              "    (() => {\n",
              "      let quickchartButtonEl =\n",
              "        document.querySelector('#df-e5644e1f-80a4-4bca-a97e-ebb745c2c7f3 button');\n",
              "      quickchartButtonEl.style.display =\n",
              "        google.colab.kernel.accessAllowed ? 'block' : 'none';\n",
              "    })();\n",
              "  </script>\n",
              "</div>\n",
              "    </div>\n",
              "  </div>\n"
            ]
          },
          "metadata": {},
          "execution_count": 78
        }
      ],
      "source": [
        "sp500.head()"
      ]
    },
    {
      "cell_type": "markdown",
      "metadata": {
        "id": "pD-ARNpEfUV8"
      },
      "source": [
        "For simplicity, we'll use just the closing price:"
      ]
    },
    {
      "cell_type": "code",
      "execution_count": 113,
      "metadata": {
        "tags": [],
        "id": "g0S267o8fUV8"
      },
      "outputs": [],
      "source": [
        "sp500 = sp500['Close']"
      ]
    },
    {
      "cell_type": "code",
      "source": [
        "sp500.head()"
      ],
      "metadata": {
        "id": "Kauhp3YJjwmZ",
        "outputId": "290ad46b-ed28-45c4-dd0c-81a95d67bd73",
        "colab": {
          "base_uri": "https://localhost:8080/"
        }
      },
      "execution_count": 82,
      "outputs": [
        {
          "output_type": "execute_result",
          "data": {
            "text/plain": [
              "Date\n",
              "2018-01-02    2695.810059\n",
              "2018-01-03    2713.060059\n",
              "2018-01-04    2723.989990\n",
              "2018-01-05    2743.149902\n",
              "2018-01-08    2747.709961\n",
              "Name: Close, dtype: float64"
            ]
          },
          "metadata": {},
          "execution_count": 82
        }
      ]
    },
    {
      "cell_type": "code",
      "source": [
        "sp500.index"
      ],
      "metadata": {
        "id": "08o_QDrLkCl5",
        "outputId": "1c824d26-17d0-43a7-d3ab-27a1e9e5a53f",
        "colab": {
          "base_uri": "https://localhost:8080/"
        }
      },
      "execution_count": 83,
      "outputs": [
        {
          "output_type": "execute_result",
          "data": {
            "text/plain": [
              "DatetimeIndex(['2018-01-02', '2018-01-03', '2018-01-04', '2018-01-05',\n",
              "               '2018-01-08', '2018-01-09', '2018-01-10', '2018-01-11',\n",
              "               '2018-01-12', '2018-01-16',\n",
              "               ...\n",
              "               '2021-12-17', '2021-12-20', '2021-12-21', '2021-12-22',\n",
              "               '2021-12-23', '2021-12-27', '2021-12-28', '2021-12-29',\n",
              "               '2021-12-30', '2021-12-31'],\n",
              "              dtype='datetime64[ns]', name='Date', length=1008, freq=None)"
            ]
          },
          "metadata": {},
          "execution_count": 83
        }
      ]
    },
    {
      "cell_type": "markdown",
      "metadata": {
        "id": "zQVTuQbRfUV8"
      },
      "source": [
        "We can visualize this using the ``plot`` method; the result is shown in the following figure:"
      ]
    },
    {
      "cell_type": "code",
      "source": [
        "import seaborn as sns\n",
        "sns.set_style('darkgrid') #others darkgrid, whitegrid, dark, white, and ticks"
      ],
      "metadata": {
        "id": "HhXVqxPQ7DNE"
      },
      "execution_count": 84,
      "outputs": []
    },
    {
      "cell_type": "markdown",
      "source": [
        "**예시**\\\n",
        "downsampling - 일 단위를 월 단위로 묶는 것\\\n",
        "upsampling - 일 단위를 시간 단위로 나누는 것"
      ],
      "metadata": {
        "id": "O9rZBVDOlkD7"
      }
    },
    {
      "cell_type": "code",
      "execution_count": 114,
      "metadata": {
        "jupyter": {
          "outputs_hidden": false
        },
        "id": "RKIOKvGHfUV8",
        "outputId": "f773ca4c-d764-4bb1-b4d6-d894470d237a",
        "colab": {
          "base_uri": "https://localhost:8080/",
          "height": 451
        }
      },
      "outputs": [
        {
          "output_type": "execute_result",
          "data": {
            "text/plain": [
              "<Axes: xlabel='Date'>"
            ]
          },
          "metadata": {},
          "execution_count": 114
        },
        {
          "output_type": "display_data",
          "data": {
            "text/plain": [
              "<Figure size 640x480 with 1 Axes>"
            ],
            "image/png": "[encoded data removed]"
          },
          "metadata": {}
        }
      ],
      "source": [
        "sp500.plot()"
      ]
    },
    {
      "cell_type": "markdown",
      "metadata": {
        "id": "RVlviTLNfUV8"
      },
      "source": [
        "### Resampling and Converting Frequencies\n",
        "\n",
        "One common need when dealing with time series data is resampling at a higher or lower frequency.\n",
        "This can be done using the `resample` method, or the much simpler `asfreq` method.\n",
        "The primary difference between the two is that `resample` is fundamentally a *data aggregation*, while `asfreq` is fundamentally a *data selection*.\n",
        "\n",
        "Let's compare what the two return when we downsample the S&P 500 closing price data.\n",
        "Here we will resample the data at the end of business year; the following figure shows the result:"
      ]
    },
    {
      "cell_type": "code",
      "execution_count": 86,
      "metadata": {
        "jupyter": {
          "outputs_hidden": false
        },
        "id": "H5Dymi9JfUV8"
      },
      "outputs": [],
      "source": [
        "import matplotlib.pyplot as plt"
      ]
    },
    {
      "cell_type": "markdown",
      "metadata": {
        "id": "cxO7voekfUV8"
      },
      "source": [
        "Notice the difference: at each point, `resample` reports the *average of the previous year*, while `asfreq` reports the *value at the end of the year*."
      ]
    },
    {
      "cell_type": "code",
      "source": [
        "sp500.resample(\"W\").mean()"
      ],
      "metadata": {
        "id": "J40ROYrBl8aq",
        "outputId": "8ca999ba-3196-474f-870f-a124a2db5de5",
        "colab": {
          "base_uri": "https://localhost:8080/"
        }
      },
      "execution_count": 89,
      "outputs": [
        {
          "output_type": "execute_result",
          "data": {
            "text/plain": [
              "Date\n",
              "2018-01-07    2719.002502\n",
              "2018-01-14    2760.206006\n",
              "2018-01-21    2796.827515\n",
              "2018-01-28    2844.352002\n",
              "2018-02-04    2816.775977\n",
              "                 ...     \n",
              "2021-12-05    4570.168066\n",
              "2021-12-12    4671.820020\n",
              "2021-12-19    4660.444043\n",
              "2021-12-26    4659.900024\n",
              "2022-01-02    4783.102051\n",
              "Freq: W-SUN, Name: Close, Length: 209, dtype: float64"
            ]
          },
          "metadata": {},
          "execution_count": 89
        }
      ]
    },
    {
      "cell_type": "code",
      "source": [
        "sp500.tail()"
      ],
      "metadata": {
        "id": "dDi-9yjwnV1F",
        "outputId": "30b45696-2dc7-4d8e-a010-a5867bad323f",
        "colab": {
          "base_uri": "https://localhost:8080/"
        }
      },
      "execution_count": 100,
      "outputs": [
        {
          "output_type": "execute_result",
          "data": {
            "text/plain": [
              "Date\n",
              "2021-12-27    4791.189941\n",
              "2021-12-28    4786.350098\n",
              "2021-12-29    4793.060059\n",
              "2021-12-30    4778.729980\n",
              "2021-12-31    4766.180176\n",
              "Name: Close, dtype: float64"
            ]
          },
          "metadata": {},
          "execution_count": 100
        }
      ]
    },
    {
      "cell_type": "code",
      "source": [
        "sp500.plot(alpha=0.5, style='-')\n",
        "sp500.resample(\"BA\").mean().plot(style=':')\n",
        "sp500.asfreq('BA').plot(style='--')\n",
        "plt.legend(['input','resample','asfreq'], loc='upper left')"
      ],
      "metadata": {
        "id": "gw0csAFgl82z",
        "outputId": "9664b98b-23f8-4c9a-b258-9a3cfe04c95a",
        "colab": {
          "base_uri": "https://localhost:8080/",
          "height": 451
        }
      },
      "execution_count": 99,
      "outputs": [
        {
          "output_type": "execute_result",
          "data": {
            "text/plain": [
              "<matplotlib.legend.Legend at 0x7aa8ca1b4e50>"
            ]
          },
          "metadata": {},
          "execution_count": 99
        },
        {
          "output_type": "display_data",
          "data": {
            "text/plain": [
              "<Figure size 640x480 with 1 Axes>"
            ],
            "image/png": "[encoded data removed]"
          },
          "metadata": {}
        }
      ]
    },
    {
      "cell_type": "markdown",
      "metadata": {
        "id": "bnBzVW1VfUV8"
      },
      "source": [
        "For upsampling, `resample` and `asfreq` are largely equivalent, though `resample` has many more options available.\n",
        "In this case, the default for both methods is to leave the upsampled points empty; that is, filled with NA values.\n",
        "Like the `pd.fillna` function discussed when we learned how to handle missing data, `asfreq` accepts a `method` argument to specify how values are imputed.\n",
        "Here, we will resample the business day data at a daily frequency (i.e., including weekends); the following figure shows the result:"
      ]
    },
    {
      "cell_type": "code",
      "source": [
        "sp500.resample(\"BA\").mean()"
      ],
      "metadata": {
        "id": "4dydkOqJm3pA",
        "outputId": "45470f90-91f5-449c-c8a0-0e33c6a7cd19",
        "colab": {
          "base_uri": "https://localhost:8080/"
        }
      },
      "execution_count": 96,
      "outputs": [
        {
          "output_type": "execute_result",
          "data": {
            "text/plain": [
              "Date\n",
              "2018-12-31    2746.214183\n",
              "2019-12-31    2913.356380\n",
              "2020-12-31    3217.855849\n",
              "2021-12-31    4273.385635\n",
              "2022-12-30            NaN\n",
              "Freq: BA-DEC, Name: Close, dtype: float64"
            ]
          },
          "metadata": {},
          "execution_count": 96
        }
      ]
    },
    {
      "cell_type": "code",
      "source": [
        "sp500['2018-12-31']"
      ],
      "metadata": {
        "id": "x8QXf7Ysm8cd",
        "outputId": "51c1ebef-36ca-4caf-c836-ef5504233e22",
        "colab": {
          "base_uri": "https://localhost:8080/"
        }
      },
      "execution_count": 97,
      "outputs": [
        {
          "output_type": "execute_result",
          "data": {
            "text/plain": [
              "2506.85009765625"
            ]
          },
          "metadata": {},
          "execution_count": 97
        }
      ]
    },
    {
      "cell_type": "code",
      "source": [
        "sp500.asfreq('BA') # 마지막 점을 가져옴."
      ],
      "metadata": {
        "id": "F5IbivzGmzKg",
        "outputId": "c4fec9dc-6231-4a17-db45-100f55b832ff",
        "colab": {
          "base_uri": "https://localhost:8080/"
        }
      },
      "execution_count": 95,
      "outputs": [
        {
          "output_type": "execute_result",
          "data": {
            "text/plain": [
              "Date\n",
              "2018-12-31    2506.850098\n",
              "2019-12-31    3230.780029\n",
              "2020-12-31    3756.070068\n",
              "2021-12-31    4766.180176\n",
              "Freq: BA-DEC, Name: Close, dtype: float64"
            ]
          },
          "metadata": {},
          "execution_count": 95
        }
      ]
    },
    {
      "cell_type": "code",
      "execution_count": null,
      "metadata": {
        "jupyter": {
          "outputs_hidden": false
        },
        "id": "tJJWNTzhfUV8"
      },
      "outputs": [],
      "source": [
        "fig, ax = plt.subplots(2, sharex=True)\n"
      ]
    },
    {
      "cell_type": "markdown",
      "metadata": {
        "id": "fGAJSfMWfUV8"
      },
      "source": [
        "Because the S&P 500 data only exists for business days, the top panel has gaps representing NA values.\n",
        "The bottom panel shows the differences between two strategies for filling the gaps: forward filling and backward filling."
      ]
    },
    {
      "cell_type": "markdown",
      "metadata": {
        "id": "rgKCGhe4fUV9"
      },
      "source": [
        "### Time Shifts\n",
        "\n",
        "Another common time series–specific operation is shifting of data in time.\n",
        "For this, Pandas provides the `shift` method, which can be used to shift data by a given number of entries.\n",
        "With time series data sampled at a regular frequency, this can give us a way to explore trends over time.\n",
        "\n",
        "For example, here we resample the data to daily values, and shift by 364 to compute the 1-year return on investment for the S&P 500 over time (see the following figure):"
      ]
    },
    {
      "cell_type": "code",
      "execution_count": 115,
      "metadata": {
        "id": "0mtmc9_6fUV9",
        "outputId": "5e62b5d7-1537-4a09-be35-364d143740d6",
        "colab": {
          "base_uri": "https://localhost:8080/"
        }
      },
      "outputs": [
        {
          "output_type": "execute_result",
          "data": {
            "text/plain": [
              "Date\n",
              "2018-01-02    2695.810059\n",
              "2018-01-03    2713.060059\n",
              "2018-01-04    2723.989990\n",
              "2018-01-05    2743.149902\n",
              "2018-01-06    2743.149902\n",
              "                 ...     \n",
              "2021-12-27    4791.189941\n",
              "2021-12-28    4786.350098\n",
              "2021-12-29    4793.060059\n",
              "2021-12-30    4778.729980\n",
              "2021-12-31    4766.180176\n",
              "Freq: D, Name: Close, Length: 1460, dtype: float64"
            ]
          },
          "metadata": {},
          "execution_count": 115
        }
      ],
      "source": [
        "sp500 = sp500.asfreq('D', method='pad')\n",
        "# sp500.shift(-365)\n",
        "sp500"
      ]
    },
    {
      "cell_type": "code",
      "source": [
        "sp500['2019-01-02']"
      ],
      "metadata": {
        "id": "cBFOj-McrID3",
        "outputId": "7db63e3e-3b01-490f-e3c8-b25d2aa73046",
        "colab": {
          "base_uri": "https://localhost:8080/"
        }
      },
      "execution_count": 105,
      "outputs": [
        {
          "output_type": "execute_result",
          "data": {
            "text/plain": [
              "2510.030029296875"
            ]
          },
          "metadata": {},
          "execution_count": 105
        }
      ]
    },
    {
      "cell_type": "code",
      "source": [
        "sp500 = sp500.asfreq('D', method='pad')\n",
        "ROI = 100*(sp500.shift(-365) - sp500)/sp500\n",
        "ROI.plot()"
      ],
      "metadata": {
        "id": "cRYFXLZ6sOQQ",
        "outputId": "65ce624c-57f8-4801-9a69-800fb68fb1d1",
        "colab": {
          "base_uri": "https://localhost:8080/",
          "height": 484
        }
      },
      "execution_count": 116,
      "outputs": [
        {
          "output_type": "execute_result",
          "data": {
            "text/plain": [
              "<Axes: xlabel='Date'>"
            ]
          },
          "metadata": {},
          "execution_count": 116
        },
        {
          "output_type": "display_data",
          "data": {
            "text/plain": [
              "<Figure size 640x480 with 1 Axes>"
            ],
            "image/png": "[encoded data removed]"
          },
          "metadata": {}
        }
      ]
    },
    {
      "cell_type": "markdown",
      "metadata": {
        "id": "VoFsXI6ZfUV9"
      },
      "source": [
        "The worst one-year return was around March 2019, with the coronavirus-related market crash exactly a year later. As you might expect, the best one-year return was to be found in March 2020, for those with enough foresight or luck to buy low."
      ]
    },
    {
      "cell_type": "markdown",
      "metadata": {
        "id": "53WeUik8fUV9"
      },
      "source": [
        "### Rolling Windows\n",
        "\n",
        "Calculating rolling statistics is a third type of time series–specific operation implemented by Pandas.\n",
        "This can be accomplished via the `rolling` attribute of `Series` and `DataFrame` objects, which returns a view similar to what we saw with the `groupby` operation.\n",
        "This rolling view makes available a number of aggregation operations by default.\n"
      ]
    },
    {
      "cell_type": "markdown",
      "metadata": {
        "id": "cvmmG1CpfUV9"
      },
      "source": [
        "\n",
        "For example, we can look at the one-year centered rolling mean and standard deviation of the  stock prices (see the following figure):"
      ]
    },
    {
      "cell_type": "code",
      "execution_count": 124,
      "metadata": {
        "jupyter": {
          "outputs_hidden": false
        },
        "id": "u8astQ4GfUV9",
        "outputId": "21a8b44b-0ae3-4132-f8eb-ad1530d9ffd2",
        "colab": {
          "base_uri": "https://localhost:8080/",
          "height": 484
        }
      },
      "outputs": [
        {
          "output_type": "execute_result",
          "data": {
            "text/plain": [
              "<Axes: xlabel='Date'>"
            ]
          },
          "metadata": {},
          "execution_count": 124
        },
        {
          "output_type": "display_data",
          "data": {
            "text/plain": [
              "<Figure size 640x480 with 1 Axes>"
            ],
            "image/png": "[encoded data removed]"
          },
          "metadata": {}
        }
      ],
      "source": [
        "rolling = sp500.rolling(365, center=True)\n",
        "\n",
        "data = pd.DataFrame({'input' : sp500,\n",
        "                     'one-year rolling_mean' : rolling.mean(),\n",
        "                     'one-year rolling_median' : rolling.median()})\n",
        "data.plot()"
      ]
    },
    {
      "cell_type": "code",
      "source": [],
      "metadata": {
        "id": "lyYLlHrwuIPz"
      },
      "execution_count": null,
      "outputs": []
    },
    {
      "cell_type": "code",
      "source": [
        "rolling[~rolling.isna()]"
      ],
      "metadata": {
        "id": "NYwvg3zStqZY",
        "outputId": "81497c36-4611-4ee9-bac9-1265002f0249",
        "colab": {
          "base_uri": "https://localhost:8080/"
        }
      },
      "execution_count": 121,
      "outputs": [
        {
          "output_type": "execute_result",
          "data": {
            "text/plain": [
              "Date\n",
              "2018-07-03    2743.434413\n",
              "2018-07-04    2742.925427\n",
              "2018-07-05    2742.198933\n",
              "2018-07-06    2741.672769\n",
              "2018-07-07    2741.094111\n",
              "                 ...     \n",
              "2021-06-28    4258.061922\n",
              "2021-06-29    4260.941347\n",
              "2021-06-30    4263.861950\n",
              "2021-07-01    4266.729593\n",
              "2021-07-02    4269.497018\n",
              "Freq: D, Name: Close, Length: 1096, dtype: float64"
            ]
          },
          "metadata": {},
          "execution_count": 121
        }
      ]
    },
    {
      "cell_type": "markdown",
      "metadata": {
        "id": "FuNmLP7OfUV9"
      },
      "source": [
        "As with `groupby` operations, the `aggregate` and `apply` methods can be used for custom rolling computations."
      ]
    },
    {
      "cell_type": "markdown",
      "metadata": {
        "id": "KTqmZf5jfUV9"
      },
      "source": [
        "## Where to Learn More\n",
        "\n",
        "This chapter has provided only a brief summary of some of the most essential features of time series tools provided by Pandas; for a more complete discussion, you can refer to the [\"Time Series/Date Functionality\" section](http://pandas.pydata.org/pandas-docs/stable/timeseries.html) of the Pandas online documentation.\n",
        "\n",
        "Another excellent resource is the book [*Python for Data Analysis*](https://learning.oreilly.com/library/view/python-for-data/9781098104023/) by Wes McKinney (O'Reilly).\n",
        "It is an invaluable resource on the use of Pandas.\n",
        "In particular, this book emphasizes time series tools in the context of business and finance, and focuses much more on particular details of business calendars, time zones, and related topics.\n",
        "\n",
        "As always, you can also use the IPython help functionality to explore and try out further options available to the functions and methods discussed here. I find this often is the best way to learn a new Python tool."
      ]
    },
    {
      "cell_type": "markdown",
      "metadata": {
        "id": "Jt6N-sHEfUV9"
      },
      "source": [
        "## Example: Visualizing Seattle Bicycle Counts\n",
        "\n",
        "As a more involved example of working with time series data, let's take a look at bicycle counts on Seattle's [Fremont Bridge](http://www.openstreetmap.org/#map=17/47.64813/-122.34965).\n",
        "This data comes from an automated bicycle counter installed in late 2012, which has inductive sensors on the east and west sidewalks of the bridge.\n",
        "The hourly bicycle counts can be downloaded from [http://data.seattle.gov](http://data.seattle.gov); the Fremont Bridge Bicycle Counter dataset is available under the Transportation category.\n",
        "\n",
        "The CSV file can be downloaded as follows:"
      ]
    },
    {
      "cell_type": "code",
      "execution_count": 125,
      "metadata": {
        "jupyter": {
          "outputs_hidden": false
        },
        "id": "6vNb85j_fUV-",
        "outputId": "296d715b-4289-4930-baa4-1d6191456def",
        "colab": {
          "base_uri": "https://localhost:8080/"
        }
      },
      "outputs": [
        {
          "output_type": "stream",
          "name": "stdout",
          "text": [
            "  % Total    % Received % Xferd  Average Speed   Time    Time     Time  Current\n",
            "                                 Dload  Upload   Total   Spent    Left  Speed\n",
            "\r  0     0    0     0    0     0      0      0 --:--:-- --:--:-- --:--:--     0\r100 4585k  100 4585k    0     0  18.5M      0 --:--:-- --:--:-- --:--:-- 18.6M\n"
          ]
        }
      ],
      "source": [
        "url = ('https://raw.githubusercontent.com/jakevdp/'\n",
        "        'bicycle-data/main/FremontBridge.csv')\n",
        "!curl -O {url}"
      ]
    },
    {
      "cell_type": "markdown",
      "metadata": {
        "id": "BFpx24fxfUV-"
      },
      "source": [
        "Once this dataset is downloaded, we can use Pandas to read the CSV output into a `DataFrame`.\n",
        "We will specify that we want the `Date` column as an index, and we want these dates to be automatically parsed:"
      ]
    },
    {
      "cell_type": "code",
      "execution_count": 130,
      "metadata": {
        "jupyter": {
          "outputs_hidden": false
        },
        "id": "tAHxxyCYfUV-",
        "outputId": "f6e56169-2f62-450c-8863-05355caf809a",
        "colab": {
          "base_uri": "https://localhost:8080/",
          "height": 238
        }
      },
      "outputs": [
        {
          "output_type": "execute_result",
          "data": {
            "text/plain": [
              "                     Fremont Bridge Total  Fremont Bridge East Sidewalk  \\\n",
              "Date                                                                      \n",
              "2019-11-01 00:00:00                  12.0                           7.0   \n",
              "2019-11-01 01:00:00                   7.0                           0.0   \n",
              "2019-11-01 02:00:00                   1.0                           0.0   \n",
              "2019-11-01 03:00:00                   6.0                           6.0   \n",
              "2019-11-01 04:00:00                   6.0                           5.0   \n",
              "\n",
              "                     Fremont Bridge West Sidewalk  \n",
              "Date                                               \n",
              "2019-11-01 00:00:00                           5.0  \n",
              "2019-11-01 01:00:00                           7.0  \n",
              "2019-11-01 02:00:00                           1.0  \n",
              "2019-11-01 03:00:00                           0.0  \n",
              "2019-11-01 04:00:00                           1.0  "
            ],
            "text/html": [
              "\n",
              "  <div id=\"df-adf3a8fb-ce15-4d70-b73e-83ed3141c5c0\" class=\"colab-df-container\">\n",
              "    <div>\n",
              "<style scoped>\n",
              "    .dataframe tbody tr th:only-of-type {\n",
              "        vertical-align: middle;\n",
              "    }\n",
              "\n",
              "    .dataframe tbody tr th {\n",
              "        vertical-align: top;\n",
              "    }\n",
              "\n",
              "    .dataframe thead th {\n",
              "        text-align: right;\n",
              "    }\n",
              "</style>\n",
              "<table border=\"1\" class=\"dataframe\">\n",
              "  <thead>\n",
              "    <tr style=\"text-align: right;\">\n",
              "      <th></th>\n",
              "      <th>Fremont Bridge Total</th>\n",
              "      <th>Fremont Bridge East Sidewalk</th>\n",
              "      <th>Fremont Bridge West Sidewalk</th>\n",
              "    </tr>\n",
              "    <tr>\n",
              "      <th>Date</th>\n",
              "      <th></th>\n",
              "      <th></th>\n",
              "      <th></th>\n",
              "    </tr>\n",
              "  </thead>\n",
              "  <tbody>\n",
              "    <tr>\n",
              "      <th>2019-11-01 00:00:00</th>\n",
              "      <td>12.0</td>\n",
              "      <td>7.0</td>\n",
              "      <td>5.0</td>\n",
              "    </tr>\n",
              "    <tr>\n",
              "      <th>2019-11-01 01:00:00</th>\n",
              "      <td>7.0</td>\n",
              "      <td>0.0</td>\n",
              "      <td>7.0</td>\n",
              "    </tr>\n",
              "    <tr>\n",
              "      <th>2019-11-01 02:00:00</th>\n",
              "      <td>1.0</td>\n",
              "      <td>0.0</td>\n",
              "      <td>1.0</td>\n",
              "    </tr>\n",
              "    <tr>\n",
              "      <th>2019-11-01 03:00:00</th>\n",
              "      <td>6.0</td>\n",
              "      <td>6.0</td>\n",
              "      <td>0.0</td>\n",
              "    </tr>\n",
              "    <tr>\n",
              "      <th>2019-11-01 04:00:00</th>\n",
              "      <td>6.0</td>\n",
              "      <td>5.0</td>\n",
              "      <td>1.0</td>\n",
              "    </tr>\n",
              "  </tbody>\n",
              "</table>\n",
              "</div>\n",
              "    <div class=\"colab-df-buttons\">\n",
              "\n",
              "  <div class=\"colab-df-container\">\n",
              "    <button class=\"colab-df-convert\" onclick=\"convertToInteractive('df-adf3a8fb-ce15-4d70-b73e-83ed3141c5c0')\"\n",
              "            title=\"Convert this dataframe to an interactive table.\"\n",
              "            style=\"display:none;\">\n",
              "\n",
              "  <svg xmlns=\"http://www.w3.org/2000/svg\" height=\"24px\" viewBox=\"0 -960 960 960\">\n",
              "    <path d=\"M120-120v-720h720v720H120Zm60-500h600v-160H180v160Zm220 220h160v-160H400v160Zm0 220h160v-160H400v160ZM180-400h160v-160H180v160Zm440 0h160v-160H620v160ZM180-180h160v-160H180v160Zm440 0h160v-160H620v160Z\"/>\n",
              "  </svg>\n",
              "    </button>\n",
              "\n",
              "  <style>\n",
              "    .colab-df-container {\n",
              "      display:flex;\n",
              "      gap: 12px;\n",
              "    }\n",
              "\n",
              "    .colab-df-convert {\n",
              "      background-color: #E8F0FE;\n",
              "      border: none;\n",
              "      border-radius: 50%;\n",
              "      cursor: pointer;\n",
              "      display: none;\n",
              "      fill: #1967D2;\n",
              "      height: 32px;\n",
              "      padding: 0 0 0 0;\n",
              "      width: 32px;\n",
              "    }\n",
              "\n",
              "    .colab-df-convert:hover {\n",
              "      background-color: #E2EBFA;\n",
              "      box-shadow: 0px 1px 2px rgba(60, 64, 67, 0.3), 0px 1px 3px 1px rgba(60, 64, 67, 0.15);\n",
              "      fill: #174EA6;\n",
              "    }\n",
              "\n",
              "    .colab-df-buttons div {\n",
              "      margin-bottom: 4px;\n",
              "    }\n",
              "\n",
              "    [theme=dark] .colab-df-convert {\n",
              "      background-color: #3B4455;\n",
              "      fill: #D2E3FC;\n",
              "    }\n",
              "\n",
              "    [theme=dark] .colab-df-convert:hover {\n",
              "      background-color: #434B5C;\n",
              "      box-shadow: 0px 1px 3px 1px rgba(0, 0, 0, 0.15);\n",
              "      filter: drop-shadow(0px 1px 2px rgba(0, 0, 0, 0.3));\n",
              "      fill: #FFFFFF;\n",
              "    }\n",
              "  </style>\n",
              "\n",
              "    <script>\n",
              "      const buttonEl =\n",
              "        document.querySelector('#df-adf3a8fb-ce15-4d70-b73e-83ed3141c5c0 button.colab-df-convert');\n",
              "      buttonEl.style.display =\n",
              "        google.colab.kernel.accessAllowed ? 'block' : 'none';\n",
              "\n",
              "      async function convertToInteractive(key) {\n",
              "        const element = document.querySelector('#df-adf3a8fb-ce15-4d70-b73e-83ed3141c5c0');\n",
              "        const dataTable =\n",
              "          await google.colab.kernel.invokeFunction('convertToInteractive',\n",
              "                                                    [key], {});\n",
              "        if (!dataTable) return;\n",
              "\n",
              "        const docLinkHtml = 'Like what you see? Visit the ' +\n",
              "          '<a target=\"_blank\" href=https://colab.research.google.com/notebooks/data_table.ipynb>data table notebook</a>'\n",
              "          + ' to learn more about interactive tables.';\n",
              "        element.innerHTML = '';\n",
              "        dataTable['output_type'] = 'display_data';\n",
              "        await google.colab.output.renderOutput(dataTable, element);\n",
              "        const docLink = document.createElement('div');\n",
              "        docLink.innerHTML = docLinkHtml;\n",
              "        element.appendChild(docLink);\n",
              "      }\n",
              "    </script>\n",
              "  </div>\n",
              "\n",
              "\n",
              "<div id=\"df-0fb4d150-d6bf-4663-9e4a-0df33e2b6a09\">\n",
              "  <button class=\"colab-df-quickchart\" onclick=\"quickchart('df-0fb4d150-d6bf-4663-9e4a-0df33e2b6a09')\"\n",
              "            title=\"Suggest charts.\"\n",
              "            style=\"display:none;\">\n",
              "\n",
              "<svg xmlns=\"http://www.w3.org/2000/svg\" height=\"24px\"viewBox=\"0 0 24 24\"\n",
              "     width=\"24px\">\n",
              "    <g>\n",
              "        <path d=\"M19 3H5c-1.1 0-2 .9-2 2v14c0 1.1.9 2 2 2h14c1.1 0 2-.9 2-2V5c0-1.1-.9-2-2-2zM9 17H7v-7h2v7zm4 0h-2V7h2v10zm4 0h-2v-4h2v4z\"/>\n",
              "    </g>\n",
              "</svg>\n",
              "  </button>\n",
              "\n",
              "<style>\n",
              "  .colab-df-quickchart {\n",
              "      --bg-color: #E8F0FE;\n",
              "      --fill-color: #1967D2;\n",
              "      --hover-bg-color: #E2EBFA;\n",
              "      --hover-fill-color: #174EA6;\n",
              "      --disabled-fill-color: #AAA;\n",
              "      --disabled-bg-color: #DDD;\n",
              "  }\n",
              "\n",
              "  [theme=dark] .colab-df-quickchart {\n",
              "      --bg-color: #3B4455;\n",
              "      --fill-color: #D2E3FC;\n",
              "      --hover-bg-color: #434B5C;\n",
              "      --hover-fill-color: #FFFFFF;\n",
              "      --disabled-bg-color: #3B4455;\n",
              "      --disabled-fill-color: #666;\n",
              "  }\n",
              "\n",
              "  .colab-df-quickchart {\n",
              "    background-color: var(--bg-color);\n",
              "    border: none;\n",
              "    border-radius: 50%;\n",
              "    cursor: pointer;\n",
              "    display: none;\n",
              "    fill: var(--fill-color);\n",
              "    height: 32px;\n",
              "    padding: 0;\n",
              "    width: 32px;\n",
              "  }\n",
              "\n",
              "  .colab-df-quickchart:hover {\n",
              "    background-color: var(--hover-bg-color);\n",
              "    box-shadow: 0 1px 2px rgba(60, 64, 67, 0.3), 0 1px 3px 1px rgba(60, 64, 67, 0.15);\n",
              "    fill: var(--button-hover-fill-color);\n",
              "  }\n",
              "\n",
              "  .colab-df-quickchart-complete:disabled,\n",
              "  .colab-df-quickchart-complete:disabled:hover {\n",
              "    background-color: var(--disabled-bg-color);\n",
              "    fill: var(--disabled-fill-color);\n",
              "    box-shadow: none;\n",
              "  }\n",
              "\n",
              "  .colab-df-spinner {\n",
              "    border: 2px solid var(--fill-color);\n",
              "    border-color: transparent;\n",
              "    border-bottom-color: var(--fill-color);\n",
              "    animation:\n",
              "      spin 1s steps(1) infinite;\n",
              "  }\n",
              "\n",
              "  @keyframes spin {\n",
              "    0% {\n",
              "      border-color: transparent;\n",
              "      border-bottom-color: var(--fill-color);\n",
              "      border-left-color: var(--fill-color);\n",
              "    }\n",
              "    20% {\n",
              "      border-color: transparent;\n",
              "      border-left-color: var(--fill-color);\n",
              "      border-top-color: var(--fill-color);\n",
              "    }\n",
              "    30% {\n",
              "      border-color: transparent;\n",
              "      border-left-color: var(--fill-color);\n",
              "      border-top-color: var(--fill-color);\n",
              "      border-right-color: var(--fill-color);\n",
              "    }\n",
              "    40% {\n",
              "      border-color: transparent;\n",
              "      border-right-color: var(--fill-color);\n",
              "      border-top-color: var(--fill-color);\n",
              "    }\n",
              "    60% {\n",
              "      border-color: transparent;\n",
              "      border-right-color: var(--fill-color);\n",
              "    }\n",
              "    80% {\n",
              "      border-color: transparent;\n",
              "      border-right-color: var(--fill-color);\n",
              "      border-bottom-color: var(--fill-color);\n",
              "    }\n",
              "    90% {\n",
              "      border-color: transparent;\n",
              "      border-bottom-color: var(--fill-color);\n",
              "    }\n",
              "  }\n",
              "</style>\n",
              "\n",
              "  <script>\n",
              "    async function quickchart(key) {\n",
              "      const quickchartButtonEl =\n",
              "        document.querySelector('#' + key + ' button');\n",
              "      quickchartButtonEl.disabled = true;  // To prevent multiple clicks.\n",
              "      quickchartButtonEl.classList.add('colab-df-spinner');\n",
              "      try {\n",
              "        const charts = await google.colab.kernel.invokeFunction(\n",
              "            'suggestCharts', [key], {});\n",
              "      } catch (error) {\n",
              "        console.error('Error during call to suggestCharts:', error);\n",
              "      }\n",
              "      quickchartButtonEl.classList.remove('colab-df-spinner');\n",
              "      quickchartButtonEl.classList.add('colab-df-quickchart-complete');\n",
              "    }\n",
              "    (() => {\n",
              "      let quickchartButtonEl =\n",
              "        document.querySelector('#df-0fb4d150-d6bf-4663-9e4a-0df33e2b6a09 button');\n",
              "      quickchartButtonEl.style.display =\n",
              "        google.colab.kernel.accessAllowed ? 'block' : 'none';\n",
              "    })();\n",
              "  </script>\n",
              "</div>\n",
              "    </div>\n",
              "  </div>\n"
            ]
          },
          "metadata": {},
          "execution_count": 130
        }
      ],
      "source": [
        "data = pd.read_csv('FremontBridge.csv', index_col='Date', parse_dates=True)\n",
        "data.head()"
      ]
    },
    {
      "cell_type": "code",
      "source": [
        "data.shape"
      ],
      "metadata": {
        "id": "Of_zXslL9v3J",
        "outputId": "26955e2a-7b8c-4803-df57-ac940e69be84",
        "colab": {
          "base_uri": "https://localhost:8080/"
        }
      },
      "execution_count": 131,
      "outputs": [
        {
          "output_type": "execute_result",
          "data": {
            "text/plain": [
              "(147278, 3)"
            ]
          },
          "metadata": {},
          "execution_count": 131
        }
      ]
    },
    {
      "cell_type": "code",
      "source": [
        "data.columns = ['Total','East','West']"
      ],
      "metadata": {
        "id": "OTj444Nfv6x2"
      },
      "execution_count": 134,
      "outputs": []
    },
    {
      "cell_type": "markdown",
      "metadata": {
        "id": "pUPge6bufUV-"
      },
      "source": [
        "For convenience, we'll shorten the column names:"
      ]
    },
    {
      "cell_type": "code",
      "execution_count": 136,
      "metadata": {
        "jupyter": {
          "outputs_hidden": false
        },
        "id": "5_U7KvOWfUV-",
        "outputId": "61893bc2-5cdc-4679-f1fb-c5a0231a054c",
        "colab": {
          "base_uri": "https://localhost:8080/",
          "height": 300
        }
      },
      "outputs": [
        {
          "output_type": "execute_result",
          "data": {
            "text/plain": [
              "               Total           East           West\n",
              "count  147255.000000  147255.000000  147255.000000\n",
              "mean      110.341462      50.077763      60.263699\n",
              "std       140.422051      64.634038      87.252147\n",
              "min         0.000000       0.000000       0.000000\n",
              "25%        14.000000       6.000000       7.000000\n",
              "50%        60.000000      28.000000      30.000000\n",
              "75%       145.000000      68.000000      74.000000\n",
              "max      1097.000000     698.000000     850.000000"
            ],
            "text/html": [
              "\n",
              "  <div id=\"df-a54ce4b8-f142-4201-9b13-c2c51f8f198c\" class=\"colab-df-container\">\n",
              "    <div>\n",
              "<style scoped>\n",
              "    .dataframe tbody tr th:only-of-type {\n",
              "        vertical-align: middle;\n",
              "    }\n",
              "\n",
              "    .dataframe tbody tr th {\n",
              "        vertical-align: top;\n",
              "    }\n",
              "\n",
              "    .dataframe thead th {\n",
              "        text-align: right;\n",
              "    }\n",
              "</style>\n",
              "<table border=\"1\" class=\"dataframe\">\n",
              "  <thead>\n",
              "    <tr style=\"text-align: right;\">\n",
              "      <th></th>\n",
              "      <th>Total</th>\n",
              "      <th>East</th>\n",
              "      <th>West</th>\n",
              "    </tr>\n",
              "  </thead>\n",
              "  <tbody>\n",
              "    <tr>\n",
              "      <th>count</th>\n",
              "      <td>147255.000000</td>\n",
              "      <td>147255.000000</td>\n",
              "      <td>147255.000000</td>\n",
              "    </tr>\n",
              "    <tr>\n",
              "      <th>mean</th>\n",
              "      <td>110.341462</td>\n",
              "      <td>50.077763</td>\n",
              "      <td>60.263699</td>\n",
              "    </tr>\n",
              "    <tr>\n",
              "      <th>std</th>\n",
              "      <td>140.422051</td>\n",
              "      <td>64.634038</td>\n",
              "      <td>87.252147</td>\n",
              "    </tr>\n",
              "    <tr>\n",
              "      <th>min</th>\n",
              "      <td>0.000000</td>\n",
              "      <td>0.000000</td>\n",
              "      <td>0.000000</td>\n",
              "    </tr>\n",
              "    <tr>\n",
              "      <th>25%</th>\n",
              "      <td>14.000000</td>\n",
              "      <td>6.000000</td>\n",
              "      <td>7.000000</td>\n",
              "    </tr>\n",
              "    <tr>\n",
              "      <th>50%</th>\n",
              "      <td>60.000000</td>\n",
              "      <td>28.000000</td>\n",
              "      <td>30.000000</td>\n",
              "    </tr>\n",
              "    <tr>\n",
              "      <th>75%</th>\n",
              "      <td>145.000000</td>\n",
              "      <td>68.000000</td>\n",
              "      <td>74.000000</td>\n",
              "    </tr>\n",
              "    <tr>\n",
              "      <th>max</th>\n",
              "      <td>1097.000000</td>\n",
              "      <td>698.000000</td>\n",
              "      <td>850.000000</td>\n",
              "    </tr>\n",
              "  </tbody>\n",
              "</table>\n",
              "</div>\n",
              "    <div class=\"colab-df-buttons\">\n",
              "\n",
              "  <div class=\"colab-df-container\">\n",
              "    <button class=\"colab-df-convert\" onclick=\"convertToInteractive('df-a54ce4b8-f142-4201-9b13-c2c51f8f198c')\"\n",
              "            title=\"Convert this dataframe to an interactive table.\"\n",
              "            style=\"display:none;\">\n",
              "\n",
              "  <svg xmlns=\"http://www.w3.org/2000/svg\" height=\"24px\" viewBox=\"0 -960 960 960\">\n",
              "    <path d=\"M120-120v-720h720v720H120Zm60-500h600v-160H180v160Zm220 220h160v-160H400v160Zm0 220h160v-160H400v160ZM180-400h160v-160H180v160Zm440 0h160v-160H620v160ZM180-180h160v-160H180v160Zm440 0h160v-160H620v160Z\"/>\n",
              "  </svg>\n",
              "    </button>\n",
              "\n",
              "  <style>\n",
              "    .colab-df-container {\n",
              "      display:flex;\n",
              "      gap: 12px;\n",
              "    }\n",
              "\n",
              "    .colab-df-convert {\n",
              "      background-color: #E8F0FE;\n",
              "      border: none;\n",
              "      border-radius: 50%;\n",
              "      cursor: pointer;\n",
              "      display: none;\n",
              "      fill: #1967D2;\n",
              "      height: 32px;\n",
              "      padding: 0 0 0 0;\n",
              "      width: 32px;\n",
              "    }\n",
              "\n",
              "    .colab-df-convert:hover {\n",
              "      background-color: #E2EBFA;\n",
              "      box-shadow: 0px 1px 2px rgba(60, 64, 67, 0.3), 0px 1px 3px 1px rgba(60, 64, 67, 0.15);\n",
              "      fill: #174EA6;\n",
              "    }\n",
              "\n",
              "    .colab-df-buttons div {\n",
              "      margin-bottom: 4px;\n",
              "    }\n",
              "\n",
              "    [theme=dark] .colab-df-convert {\n",
              "      background-color: #3B4455;\n",
              "      fill: #D2E3FC;\n",
              "    }\n",
              "\n",
              "    [theme=dark] .colab-df-convert:hover {\n",
              "      background-color: #434B5C;\n",
              "      box-shadow: 0px 1px 3px 1px rgba(0, 0, 0, 0.15);\n",
              "      filter: drop-shadow(0px 1px 2px rgba(0, 0, 0, 0.3));\n",
              "      fill: #FFFFFF;\n",
              "    }\n",
              "  </style>\n",
              "\n",
              "    <script>\n",
              "      const buttonEl =\n",
              "        document.querySelector('#df-a54ce4b8-f142-4201-9b13-c2c51f8f198c button.colab-df-convert');\n",
              "      buttonEl.style.display =\n",
              "        google.colab.kernel.accessAllowed ? 'block' : 'none';\n",
              "\n",
              "      async function convertToInteractive(key) {\n",
              "        const element = document.querySelector('#df-a54ce4b8-f142-4201-9b13-c2c51f8f198c');\n",
              "        const dataTable =\n",
              "          await google.colab.kernel.invokeFunction('convertToInteractive',\n",
              "                                                    [key], {});\n",
              "        if (!dataTable) return;\n",
              "\n",
              "        const docLinkHtml = 'Like what you see? Visit the ' +\n",
              "          '<a target=\"_blank\" href=https://colab.research.google.com/notebooks/data_table.ipynb>data table notebook</a>'\n",
              "          + ' to learn more about interactive tables.';\n",
              "        element.innerHTML = '';\n",
              "        dataTable['output_type'] = 'display_data';\n",
              "        await google.colab.output.renderOutput(dataTable, element);\n",
              "        const docLink = document.createElement('div');\n",
              "        docLink.innerHTML = docLinkHtml;\n",
              "        element.appendChild(docLink);\n",
              "      }\n",
              "    </script>\n",
              "  </div>\n",
              "\n",
              "\n",
              "<div id=\"df-8f04eb15-36e0-4469-961f-543186a5a776\">\n",
              "  <button class=\"colab-df-quickchart\" onclick=\"quickchart('df-8f04eb15-36e0-4469-961f-543186a5a776')\"\n",
              "            title=\"Suggest charts.\"\n",
              "            style=\"display:none;\">\n",
              "\n",
              "<svg xmlns=\"http://www.w3.org/2000/svg\" height=\"24px\"viewBox=\"0 0 24 24\"\n",
              "     width=\"24px\">\n",
              "    <g>\n",
              "        <path d=\"M19 3H5c-1.1 0-2 .9-2 2v14c0 1.1.9 2 2 2h14c1.1 0 2-.9 2-2V5c0-1.1-.9-2-2-2zM9 17H7v-7h2v7zm4 0h-2V7h2v10zm4 0h-2v-4h2v4z\"/>\n",
              "    </g>\n",
              "</svg>\n",
              "  </button>\n",
              "\n",
              "<style>\n",
              "  .colab-df-quickchart {\n",
              "      --bg-color: #E8F0FE;\n",
              "      --fill-color: #1967D2;\n",
              "      --hover-bg-color: #E2EBFA;\n",
              "      --hover-fill-color: #174EA6;\n",
              "      --disabled-fill-color: #AAA;\n",
              "      --disabled-bg-color: #DDD;\n",
              "  }\n",
              "\n",
              "  [theme=dark] .colab-df-quickchart {\n",
              "      --bg-color: #3B4455;\n",
              "      --fill-color: #D2E3FC;\n",
              "      --hover-bg-color: #434B5C;\n",
              "      --hover-fill-color: #FFFFFF;\n",
              "      --disabled-bg-color: #3B4455;\n",
              "      --disabled-fill-color: #666;\n",
              "  }\n",
              "\n",
              "  .colab-df-quickchart {\n",
              "    background-color: var(--bg-color);\n",
              "    border: none;\n",
              "    border-radius: 50%;\n",
              "    cursor: pointer;\n",
              "    display: none;\n",
              "    fill: var(--fill-color);\n",
              "    height: 32px;\n",
              "    padding: 0;\n",
              "    width: 32px;\n",
              "  }\n",
              "\n",
              "  .colab-df-quickchart:hover {\n",
              "    background-color: var(--hover-bg-color);\n",
              "    box-shadow: 0 1px 2px rgba(60, 64, 67, 0.3), 0 1px 3px 1px rgba(60, 64, 67, 0.15);\n",
              "    fill: var(--button-hover-fill-color);\n",
              "  }\n",
              "\n",
              "  .colab-df-quickchart-complete:disabled,\n",
              "  .colab-df-quickchart-complete:disabled:hover {\n",
              "    background-color: var(--disabled-bg-color);\n",
              "    fill: var(--disabled-fill-color);\n",
              "    box-shadow: none;\n",
              "  }\n",
              "\n",
              "  .colab-df-spinner {\n",
              "    border: 2px solid var(--fill-color);\n",
              "    border-color: transparent;\n",
              "    border-bottom-color: var(--fill-color);\n",
              "    animation:\n",
              "      spin 1s steps(1) infinite;\n",
              "  }\n",
              "\n",
              "  @keyframes spin {\n",
              "    0% {\n",
              "      border-color: transparent;\n",
              "      border-bottom-color: var(--fill-color);\n",
              "      border-left-color: var(--fill-color);\n",
              "    }\n",
              "    20% {\n",
              "      border-color: transparent;\n",
              "      border-left-color: var(--fill-color);\n",
              "      border-top-color: var(--fill-color);\n",
              "    }\n",
              "    30% {\n",
              "      border-color: transparent;\n",
              "      border-left-color: var(--fill-color);\n",
              "      border-top-color: var(--fill-color);\n",
              "      border-right-color: var(--fill-color);\n",
              "    }\n",
              "    40% {\n",
              "      border-color: transparent;\n",
              "      border-right-color: var(--fill-color);\n",
              "      border-top-color: var(--fill-color);\n",
              "    }\n",
              "    60% {\n",
              "      border-color: transparent;\n",
              "      border-right-color: var(--fill-color);\n",
              "    }\n",
              "    80% {\n",
              "      border-color: transparent;\n",
              "      border-right-color: var(--fill-color);\n",
              "      border-bottom-color: var(--fill-color);\n",
              "    }\n",
              "    90% {\n",
              "      border-color: transparent;\n",
              "      border-bottom-color: var(--fill-color);\n",
              "    }\n",
              "  }\n",
              "</style>\n",
              "\n",
              "  <script>\n",
              "    async function quickchart(key) {\n",
              "      const quickchartButtonEl =\n",
              "        document.querySelector('#' + key + ' button');\n",
              "      quickchartButtonEl.disabled = true;  // To prevent multiple clicks.\n",
              "      quickchartButtonEl.classList.add('colab-df-spinner');\n",
              "      try {\n",
              "        const charts = await google.colab.kernel.invokeFunction(\n",
              "            'suggestCharts', [key], {});\n",
              "      } catch (error) {\n",
              "        console.error('Error during call to suggestCharts:', error);\n",
              "      }\n",
              "      quickchartButtonEl.classList.remove('colab-df-spinner');\n",
              "      quickchartButtonEl.classList.add('colab-df-quickchart-complete');\n",
              "    }\n",
              "    (() => {\n",
              "      let quickchartButtonEl =\n",
              "        document.querySelector('#df-8f04eb15-36e0-4469-961f-543186a5a776 button');\n",
              "      quickchartButtonEl.style.display =\n",
              "        google.colab.kernel.accessAllowed ? 'block' : 'none';\n",
              "    })();\n",
              "  </script>\n",
              "</div>\n",
              "    </div>\n",
              "  </div>\n"
            ]
          },
          "metadata": {},
          "execution_count": 136
        }
      ],
      "source": [
        "data.dropna().describe()"
      ]
    },
    {
      "cell_type": "code",
      "source": [
        "data.isnull().sum()"
      ],
      "metadata": {
        "id": "zGschj1awWDg",
        "outputId": "0d546390-5139-4c61-a837-85582dd9ecc4",
        "colab": {
          "base_uri": "https://localhost:8080/"
        }
      },
      "execution_count": 135,
      "outputs": [
        {
          "output_type": "execute_result",
          "data": {
            "text/plain": [
              "Total    22\n",
              "East     22\n",
              "West     23\n",
              "dtype: int64"
            ]
          },
          "metadata": {},
          "execution_count": 135
        }
      ]
    },
    {
      "cell_type": "markdown",
      "metadata": {
        "id": "RxNWk1oWfUV-"
      },
      "source": [
        "Now let's take a look at the summary statistics for this data:"
      ]
    },
    {
      "cell_type": "code",
      "execution_count": null,
      "metadata": {
        "jupyter": {
          "outputs_hidden": false
        },
        "id": "Lk3Ldgf_fUV-"
      },
      "outputs": [],
      "source": []
    },
    {
      "cell_type": "markdown",
      "metadata": {
        "id": "R8Zp0FOtfUV-"
      },
      "source": [
        "### Visualizing the Data\n",
        "\n",
        "We can gain some insight into the dataset by visualizing it.\n",
        "Let's start by plotting the raw data (see the following figure):"
      ]
    },
    {
      "cell_type": "code",
      "execution_count": 141,
      "metadata": {
        "jupyter": {
          "outputs_hidden": false
        },
        "id": "lEotEoEffUV-",
        "outputId": "3550478c-e26b-444f-d959-ff0b4bfdad46",
        "colab": {
          "base_uri": "https://localhost:8080/",
          "height": 458
        }
      },
      "outputs": [
        {
          "output_type": "execute_result",
          "data": {
            "text/plain": [
              "array([<Axes: xlabel='Date'>, <Axes: xlabel='Date'>,\n",
              "       <Axes: xlabel='Date'>], dtype=object)"
            ]
          },
          "metadata": {},
          "execution_count": 141
        },
        {
          "output_type": "display_data",
          "data": {
            "text/plain": [
              "<Figure size 640x480 with 3 Axes>"
            ],
            "image/png": "[encoded data removed]"
          },
          "metadata": {}
        }
      ],
      "source": [
        "data.plot(subplots=True, sharey=True)"
      ]
    },
    {
      "cell_type": "markdown",
      "metadata": {
        "id": "so7Ys-_4fUV-"
      },
      "source": [
        "The ~150,000 hourly samples are far too dense for us to make much sense of.\n",
        "We can gain more insight by resampling the data to a coarser grid.\n",
        "Let's resample by week (see the following figure):"
      ]
    },
    {
      "cell_type": "code",
      "execution_count": 148,
      "metadata": {
        "jupyter": {
          "outputs_hidden": false
        },
        "id": "kUnZki9KfUV-",
        "outputId": "53f3ad1e-412b-47b6-b0a2-3d93d8d6b4eb",
        "colab": {
          "base_uri": "https://localhost:8080/",
          "height": 467
        }
      },
      "outputs": [
        {
          "output_type": "execute_result",
          "data": {
            "text/plain": [
              "<Axes: xlabel='Date'>"
            ]
          },
          "metadata": {},
          "execution_count": 148
        },
        {
          "output_type": "display_data",
          "data": {
            "text/plain": [
              "<Figure size 640x480 with 1 Axes>"
            ],
            "image/png": "[encoded data removed]"
          },
          "metadata": {}
        }
      ],
      "source": [
        "weekly = data.resample('2W').sum()\n",
        "weekly.plot(style=['-',':','--'])"
      ]
    },
    {
      "cell_type": "markdown",
      "metadata": {
        "id": "BY8eD__XfUV-"
      },
      "source": [
        "This reveals some trends: as you might expect, people bicycle more in the summer than in the winter, and even within a particular season the bicycle use varies from week to week. Further, the effect of the COVID-19 pandemic on commuting patterns is quite clear, starting in early 2020.\n",
        "\n",
        "Another option that comes in handy for aggregating the data is to use a rolling mean, utilizing the `pd.rolling_mean` function.\n",
        "Here we'll examine the 30-day rolling mean of our data, making sure to center the window (see the following figure):"
      ]
    },
    {
      "cell_type": "code",
      "execution_count": 150,
      "metadata": {
        "jupyter": {
          "outputs_hidden": false
        },
        "id": "94v6I6tXfUV-",
        "outputId": "6746da75-b40a-4ce4-f128-50c69d72d567",
        "colab": {
          "base_uri": "https://localhost:8080/",
          "height": 467
        }
      },
      "outputs": [
        {
          "output_type": "execute_result",
          "data": {
            "text/plain": [
              "<Axes: xlabel='Date'>"
            ]
          },
          "metadata": {},
          "execution_count": 150
        },
        {
          "output_type": "display_data",
          "data": {
            "text/plain": [
              "<Figure size 640x480 with 1 Axes>"
            ],
            "image/png": "[encoded data removed]"
          },
          "metadata": {}
        }
      ],
      "source": [
        "daily = data.resample('D').sum()\n",
        "daily.rolling(30, center=True).sum().plot()"
      ]
    },
    {
      "cell_type": "markdown",
      "metadata": {
        "id": "c2o8fD88fUV-"
      },
      "source": [
        "The jaggedness of the result is due to the hard cutoff of the window.\n",
        "We can get a smoother version of a rolling mean using a window function—for example, a Gaussian window, as shown in the following figure.\n",
        "The following code specifies both the width of the window (here, 50 days) and the width of the Gaussian window (here, 10 days):"
      ]
    },
    {
      "cell_type": "code",
      "execution_count": 152,
      "metadata": {
        "jupyter": {
          "outputs_hidden": false
        },
        "id": "IpUWtoTEfUV-",
        "outputId": "7f06b405-dc50-423b-9014-200abece4e07",
        "colab": {
          "base_uri": "https://localhost:8080/",
          "height": 469
        }
      },
      "outputs": [
        {
          "output_type": "execute_result",
          "data": {
            "text/plain": [
              "<Axes: xlabel='Date'>"
            ]
          },
          "metadata": {},
          "execution_count": 152
        },
        {
          "output_type": "display_data",
          "data": {
            "text/plain": [
              "<Figure size 640x480 with 1 Axes>"
            ],
            "image/png": "[encoded data removed]"
          },
          "metadata": {}
        }
      ],
      "source": [
        "daily.rolling(50, center=True, win_type='gaussian').mean(std=10).plot()"
      ]
    },
    {
      "cell_type": "markdown",
      "metadata": {
        "id": "UZmOF3GvfUV_"
      },
      "source": [
        "### Digging into the Data\n",
        "\n",
        "While these smoothed data views are useful to get an idea of the general trend in the data, they hide much of the structure.\n",
        "For example, we might want to look at the average traffic as a function of the time of day.\n",
        "We can do this using the `groupby` functionality discussed before (see the following figure):"
      ]
    },
    {
      "cell_type": "code",
      "execution_count": null,
      "metadata": {
        "jupyter": {
          "outputs_hidden": false
        },
        "id": "Yal8129wfUV_"
      },
      "outputs": [],
      "source": []
    },
    {
      "cell_type": "markdown",
      "metadata": {
        "id": "Qa1mV7-BfUV_"
      },
      "source": [
        "The hourly traffic is a strongly bimodal sequence, with peaks around 8:00 a.m. and 5:00 p.m.\n",
        "This is likely evidence of a strong component of commuter traffic crossing the bridge.\n",
        "There is a directional component as well: according to the data, the east sidewalk is used more during the a.m. commute, and the west sidewalk is used more during the p.m. commute.\n",
        "\n",
        "We also might be curious about how things change based on the day of the week. Again, we can do this with a simple `groupby` (see the following figure):"
      ]
    },
    {
      "cell_type": "code",
      "execution_count": null,
      "metadata": {
        "jupyter": {
          "outputs_hidden": false
        },
        "id": "7Vl1OBisfUV_"
      },
      "outputs": [],
      "source": []
    },
    {
      "cell_type": "markdown",
      "metadata": {
        "id": "Tl7fegclfUV_"
      },
      "source": [
        "This shows a strong distinction between weekday and weekend totals, with around twice as many average riders crossing the bridge on Monday through Friday than on Saturday and Sunday.\n",
        "\n",
        "With this in mind, let's do a compound `groupby` and look at the hourly trends on weekdays versus weekends.\n",
        "We'll start by grouping by flags marking the weekend and the time of day:"
      ]
    },
    {
      "cell_type": "code",
      "execution_count": null,
      "metadata": {
        "jupyter": {
          "outputs_hidden": false
        },
        "id": "U69oRViAfUV_"
      },
      "outputs": [],
      "source": []
    },
    {
      "cell_type": "markdown",
      "metadata": {
        "id": "8z3EI16zfUV_"
      },
      "source": [
        "Now we'll use some of the Matplotlib tools that will be described in our next class to plot two panels side by side, as shown in the following figure:"
      ]
    },
    {
      "cell_type": "code",
      "execution_count": null,
      "metadata": {
        "jupyter": {
          "outputs_hidden": false
        },
        "id": "OjnuBmNbfUV_"
      },
      "outputs": [],
      "source": [
        "import matplotlib.pyplot as plt\n",
        "fig, ax = plt.subplots(1, 2, figsize=(14, 5))\n"
      ]
    },
    {
      "cell_type": "markdown",
      "metadata": {
        "id": "rvdSVGpwfUV_"
      },
      "source": [
        "The result shows a bimodal commuting pattern during the work week, and a unimodal recreational pattern during the weekends.\n",
        "It might be interesting to dig through this data in more detail and examine the effects of weather, temperature, time of year, and other factors on people's commuting patterns."
      ]
    },
    {
      "cell_type": "code",
      "source": [],
      "metadata": {
        "id": "uaUgE-DMaYyo"
      },
      "execution_count": null,
      "outputs": []
    }
  ]
}